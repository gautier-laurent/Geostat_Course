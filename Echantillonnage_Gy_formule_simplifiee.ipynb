{
 "cells": [
  {
   "cell_type": "markdown",
   "metadata": {},
   "source": [
    "**NB :** Ceci est un notebook interactif. Vous pouvez modifier les valeurs ou intéragir avec les graphiques.\n",
    "\n",
    "Pensez à (re)valider les cellules si ça n'est pas fait automatiquement au lancement : **Maj+Entrer** ou **Cell >> Run All**"
   ]
  },
  {
   "cell_type": "code",
   "execution_count": 27,
   "metadata": {
    "hide_input": false
   },
   "outputs": [
    {
     "data": {
      "text/html": [
       "<script>\n",
       "    // AUTORUN ALL CELLS ON NOTEBOOK-LOAD!\n",
       "    require(\n",
       "        ['base/js/namespace', 'jquery'], \n",
       "        function(jupyter, $) {\n",
       "            $(jupyter.events),on(\"kernel_ready.Kernel\", function () {\n",
       "                console.log(\"Auto-running all cells-below...\");\n",
       "                jupyter.actions.call('jupyter-notebook:run-all-cells-below');\n",
       "                jupyter.actions.call('jupyter-notebook:save-notebook');\n",
       "            });\n",
       "        }\n",
       "    );\n",
       "</script>"
      ],
      "text/plain": [
       "<IPython.core.display.HTML object>"
      ]
     },
     "metadata": {},
     "output_type": "display_data"
    }
   ],
   "source": [
    "%%html\n",
    "<script>\n",
    "    // AUTORUN ALL CELLS ON NOTEBOOK-LOAD!\n",
    "    require(\n",
    "        ['base/js/namespace', 'jquery'], \n",
    "        function(jupyter, $) {\n",
    "            $(jupyter.events),on(\"kernel_ready.Kernel\", function () {\n",
    "                console.log(\"Auto-running all cells-below...\");\n",
    "                jupyter.actions.call('jupyter-notebook:run-all-cells-below');\n",
    "                jupyter.actions.call('jupyter-notebook:save-notebook');\n",
    "            });\n",
    "        }\n",
    "    );\n",
    "</script>"
   ]
  },
  {
   "cell_type": "code",
   "execution_count": 77,
   "metadata": {
    "hide_input": true
   },
   "outputs": [],
   "source": [
    "import matplotlib.pyplot as plt\n",
    "import matplotlib.patches as patches\n",
    "import numpy as np\n",
    "from ipywidgets import interact, interactive, fixed, interact_manual\n",
    "import ipywidgets as widgets\n",
    "from IPython.display import display, Math,HTML\n",
    "from scipy.stats import norm,lognorm\n",
    "from itertools import permutations\n",
    "from scipy import linalg,optimize\n",
    "from pyvalem.formula import Formula "
   ]
  },
  {
   "cell_type": "markdown",
   "metadata": {},
   "source": [
    "# Echantillonnage : Dissection de la formule simplifiée de Pierre Gy"
   ]
  },
  {
   "cell_type": "markdown",
   "metadata": {},
   "source": [
    "La formule simplifiée de Pierre Gy permet d'estimer la variance de l'erreur fondamentale lors d'un échantillonnage.\n",
    "\n",
    "$\\large \\sigma_{EF}^2=\\left(\\frac{1}{M_e}-\\frac{1}{M_L}\\right) 𝑐 𝑔 𝑙 𝑓 𝑑^3 $\n",
    "\n",
    "Elle permet de se concentrer sur l'effet :\n",
    "1. de la masse de l'échantillon prélevé ($M_e$) et \n",
    "2. la maille granulométrique prélevée (représentée par les facteurs $𝑔 𝑙 𝑓 𝑑^3$, voir détails ci-dessous)\n",
    "3. la teneur n'influe finalement que sur le paramètre $c$"
   ]
  },
  {
   "cell_type": "markdown",
   "metadata": {},
   "source": [
    "## Explications détaillées"
   ]
  },
  {
   "cell_type": "markdown",
   "metadata": {},
   "source": [
    "Dans cette formule. on considère la teneur d'un élément chimique ($t_e$) présents au sein d'une phase minérale ($A$) prise dans une gangue qui regroupe tout le reste ($G$). \n",
    "\n",
    "Les blocs ci-dessous vont vous permettre de comprendre la signification et l'impact de chacun de ces facteurs :\n",
    "* $\\sigma_{EF}^2$ est la variance de l'erreur fondamentale (relative).<br>Cette variance relative permet de déduire un écart-type absolu $\\sigma=t_A\\sqrt{\\sigma_{EF}^2}$, en le rapportant à la teneur en minéral $t_A$.\n",
    "<br>Un interval de confiance de $\\pm 2 \\sigma$ permet d'encadrer 95% des incertitudes.<br>La valeur réelle a donc 95% de chance d'être dans une gamme $\\left[t_A-2\\sigma,t_A+2\\sigma\\right]$\n",
    "* $M_e$ et $M_L$ représentent les masses de l'échantillon et du lot estimé. En pratique, on considèrera souvent le lot comme très grand par rapport à l'échantillon. donc on peut en faire abstraction : $\\left(\\frac{1}{M_e}-\\frac{1}{M_L}\\right)\\approx\\frac{1}{M_e}$ \n",
    "* $c$ : est un facteur de composition : $c =\\left(\\frac{1-t_A}{t_A}\\right)\\big[(1-t_A)\\rho_A + t_A \\rho_G\\big]$. où $\\rho_A$ est la masse volumique du minéral d'intérêt et $\\rho_G$ celle de la gangue\n",
    "* $g$ : est un facteur de distribution qui prend en compte la répartition de la granulométrie. Ce facteur dépend des dimensions $d_{5\\%}$ et $d_{95\\%}$.\n",
    " * Cette notation $d_{i\\%}$ décrit la taille de maille retenant $i\\%$ de sa masse. \n",
    " * $d_{5\\%}$ est donc une taille assez grande qui ne retient que les 5%(en masse) des grains les plus gros \n",
    " * $d_{95\\%}$ est une taille plus petite qui retient 95% de la masse, donc quasiment l'ensemble des grains des grains. sauf les 5\\% de masse représentée par la fraction la plus fine.\n",
    "* $l$ : est le facteur de libération. Il permet de tenir compte du fait que les minéraux d'intérêts (A) sont au départ pris dans la gangue. Plus les grains sont broyés fins et plus il y a de chance que le minéraux A se retrouvent complètement libéré de leur gangue. \n",
    " * $d_l$ : est la dimension de libération commençante. i.e., la taille à laquelle les particules auront libéré 5% des minéraux A. En d'autres termes. si on réduit des grains à cette taille de manière homogène. 5% de la masse des minéraux A sera libre. 95% sera toujours attaché à des minéraux de gangue.\n",
    " * $l$ varie entre 0 et 1 : à 0 la libération est nulle, à 1 elle est totale\n",
    " * si $d_{5\\%}\\leq d_l$, on prendra : $l=1$ (95% des grains doivent être plus fin que $d_l$ donc 95% de A est libéré, on considère qu'on a atteint la maille de libération)\n",
    " * si $d_{5\\%}> d_l$, on considèrera : $l=\\sqrt{\\frac{d_l}{d_{5\\%}}}$ (moins de 95% des A sont libres la libération n'est donc que trop partielle, ce dont tient compte $l$)\n",
    "* $f 𝑑^3$ : rend compte du volume des particules : \n",
    " * $d$ correspond au diamètre des particules les plus grossières, en pratique on prend $d=d_{5\\%}$.\n",
    " * $f$ est un facteur de forme. C'est le coefficient à appliquer pour passer d'une taille au cube à un volume :\n",
    "  * pour des particules cubiques : $d$ représente le côté, donc le volume est $d^3$, ce qui correspond à $f=1$\n",
    "  * pour des particules sphériques : $d$ représente le diamètre, donc le volume est $\\frac{4}{3}\\pi\\left(\\frac{d}{2}\\right)^3 = \\frac{\\pi}{6}d^3$, ce qui correspond à $f=\\frac{\\pi}{6}=0.5236$\n",
    "  * pour des particules allongées, e.g., l'or alluvial, on pourra prendre $f=0.2$\n",
    "  * par défaut, si on ne connait pas la forme des particules on considèrera qu'elles sont proches de sphère : $f=0.5$"
   ]
  },
  {
   "cell_type": "markdown",
   "metadata": {},
   "source": [
    "## Visualisation de l'effet des différents paramètres"
   ]
  },
  {
   "cell_type": "markdown",
   "metadata": {},
   "source": [
    "### Visualisation de l'effet de $\\sigma_{EF}^2$ et des teneurs $t_A$ et $t_e$\n",
    "$\\sigma_{EF}^2$ est la variance de l'erreur fondamentale (relative).\n",
    "<br>Cette variance relative permet de déduire un écart-type absolu $\\sigma=t_A\\sqrt{\\sigma_{EF}^2}$. en le rapportant à la teneur en minéral $t_A$.\n",
    "\n",
    "Un interval de confiance de $\\pm 2 \\sigma$ permet d'encadrer 95% des incertitudes. La valeur réelle a donc 95% de chance d'être dans une gamme $\\left[t_A-2\\sigma.t_A+2\\sigma\\right]$"
   ]
  },
  {
   "cell_type": "code",
   "execution_count": 2,
   "metadata": {
    "hide_input": true
   },
   "outputs": [],
   "source": [
    "def compute_std(tA,var_EF):\n",
    "    return tA*np.sqrt(var_EF)\n",
    "def compute_confidence_range(tA,std,confidence):\n",
    "    n=norm().isf((1-confidence/100)/2)\n",
    "    return [tA-n*std,tA+n*std]"
   ]
  },
  {
   "cell_type": "code",
   "execution_count": 3,
   "metadata": {
    "hide_input": false
   },
   "outputs": [
    {
     "data": {
      "application/vnd.jupyter.widget-view+json": {
       "model_id": "a5c76bc1c8ce4b06a2261b4200912d83",
       "version_major": 2,
       "version_minor": 0
      },
      "text/plain": [
       "interactive(children=(FloatSlider(value=0.1, continuous_update=False, description=\"$t_{e|A}$ : la teneur en él…"
      ]
     },
     "metadata": {},
     "output_type": "display_data"
    }
   ],
   "source": [
    "def annotate_sigma(dist,n_sigma,ax):\n",
    "    height = 0.16*(1-(abs(n_sigma)-1)/2)+0.02\n",
    "    ax.annotate(\"\", xy=(dist.mean()-n_sigma*dist.std(), height), xytext=(dist.mean(), height),\n",
    "                 arrowprops=dict(arrowstyle=\"<->\", connectionstyle=\"arc3\"))\n",
    "    ax.text(dist.mean()-n_sigma*dist.std()/2, height, r'{}$\\sigma$'.format(abs(n_sigma) if abs(n_sigma)>1 else \"\"),\n",
    "             {'color': 'black', 'fontsize': 16, 'ha': 'center', 'va': 'center',\n",
    "              'bbox': dict(boxstyle=\"round\", fc=\"white\", pad=0.2)})\n",
    "\n",
    "perc={}\n",
    "perc[1]=68\n",
    "perc[2]=95\n",
    "perc[3]=99.7\n",
    "def annotate_perc(dist,n_sigma,ax):\n",
    "    height = 0.15*(1-(abs(n_sigma)-1)/2)+0.005\n",
    "    ax.annotate(\"\", xy=(dist.mean()-n_sigma*dist.std(), height),\n",
    "                 xytext=(dist.mean()+n_sigma*dist.std(), height),\n",
    "                 arrowprops=dict(arrowstyle=\"<->\", connectionstyle=\"arc3\"))\n",
    "\n",
    "    ax.text(dist.mean(), height, \"{}%\".format(perc[n_sigma]),\n",
    "             {'color': 'black', 'fontsize': 14, 'ha': 'center', 'va': 'center',\n",
    "              'bbox': dict(boxstyle=\"round\", fc=\"white\", pad=0.2)})    \n",
    "\n",
    "@interact(te=widgets.FloatSlider(min=0.001,max=0.999,step=0.001,value=0.1,continuous_update=False,description=\"$t_{e|A}$ : la teneur en élément cible dans le minéral d'intérêt\"),\n",
    "          tA=widgets.FloatSlider(min=0.001,max=0.999,step=0.001,value=0.1,continuous_update=False,description=\"$t_A$ : la proportion massique de minéral d'intérêt dans le lot\"),\n",
    "          EF_perc=widgets.IntSlider(min=1,max=100,step=1,value=10,continuous_update=False,description=\"$EF_{\\%}$ : l'erreur fondamentale en %\"),\n",
    "          confidence=widgets.FloatSlider(min=50,max=99.99,value=95.45,step=0.01,continuous_update=False,description=\"Le niveau de confiance (e.g.. 95%)\"),\n",
    "          show_switch=widgets.Dropdown(options=[\"minéral porteur\",\"élément d'intérêt\"],description='Teneur en :'))\n",
    "def interact_confidence_range(te,tA,EF_perc,confidence,show_switch):\n",
    "    fig,ax = plt.subplots(1,2)\n",
    "\n",
    "    N_4_2 = norm(loc=4,scale=2)\n",
    "    range_min,range_max = [-3,11]\n",
    "    x= np.linspace(range_min,range_max,100)\n",
    "    ax[0].plot(x,N_4_2.pdf(x))\n",
    "    ax[0].axvline(x=N_4_2.mean(),color='r')\n",
    "    ax[0].axvline(x=N_4_2.mean()-N_4_2.std(),color='r',linestyle=\"--\",ymax=0.9)\n",
    "    ax[0].axvline(x=N_4_2.mean()+N_4_2.std(),color='r',linestyle=\"--\",ymax=0.9)\n",
    "    ax[0].axvline(x=N_4_2.mean()-2*N_4_2.std(),color='gray',linestyle=\"--\",ymax=0.5)\n",
    "    ax[0].axvline(x=N_4_2.mean()+2*N_4_2.std(),color='gray',linestyle=\"--\",ymax=0.5)\n",
    "    ax[0].axvline(x=N_4_2.mean()-3*N_4_2.std(),color='gray',linestyle=\"--\",ymax=0.125)\n",
    "    ax[0].axvline(x=N_4_2.mean()+3*N_4_2.std(),color='gray',linestyle=\"--\",ymax=0.125)\n",
    "    annotate_sigma(N_4_2,-1,ax[0])\n",
    "    annotate_sigma(N_4_2,1,ax[0])\n",
    "    annotate_sigma(N_4_2,-2,ax[0])\n",
    "    annotate_sigma(N_4_2,2,ax[0])\n",
    "    annotate_sigma(N_4_2,-3,ax[0])\n",
    "    annotate_sigma(N_4_2,3,ax[0])\n",
    "    annotate_perc(N_4_2,1,ax[0])\n",
    "    annotate_perc(N_4_2,2,ax[0])\n",
    "    annotate_perc(N_4_2,3,ax[0])\n",
    "    \n",
    "    ax[0].set_title(\"Gamme d'incertitude en fonction du nombre d'écart-type\")\n",
    "\n",
    "    tA = tA if show_switch == \"minéral porteur\" else tA*te\n",
    "    scale_factor = 1/100\n",
    "    sigma = tA*EF_perc * scale_factor\n",
    "    range_min,range_max = compute_confidence_range(tA,sigma,confidence)\n",
    "    N = norm(loc=tA,scale=sigma)\n",
    "    x= np.linspace(tA-4*sigma,tA+4*sigma,1000)\n",
    "    pdf = N.pdf(x)\n",
    "    ax[1].set_ylim(0,1.05*N.pdf(tA))\n",
    "    ax[1].plot(x / scale_factor,pdf,label=\"Distribution de probabilité de \"+r\"$t_A$\")\n",
    "    ax[1].axvline(x=tA / scale_factor,color='g',linestyle=\"-\",ymax=0.99,label=\"Estimation\")\n",
    "    ax[1].axvline(x=range_min / scale_factor,color='r',linestyle=\"--\",ymax=0.9,label=\"Interval de confiance à {}\".format(confidence))\n",
    "    ax[1].axvline(x=range_max / scale_factor,color='r',linestyle=\"--\",ymax=0.9)\n",
    "    \n",
    "    handles,labels = ax[1].get_legend_handles_labels()\n",
    "    handles.append(patches.Patch(color='none', label=\"Erreur fondamentale (EF) : {}%\".format(EF_perc)))\n",
    "    handles.append(patches.Patch(color='none', label=\"Variance d'erreur fondamentale : {}={:.3f}\".format(r\"$\\sigma_{EF}2$\",(EF_perc/100)**2 )))\n",
    "    ax[1].legend(handles=handles)\n",
    "\n",
    "    graph_max = max(0.5 if show_switch == \"minéral porteur\" else 0.1,1.5*range_max)/scale_factor\n",
    "    ax[1].set_xlim(0,graph_max)\n",
    "    ax[1].set_xticks(np.arange(0,graph_max,10 if show_switch == \"minéral porteur\" else 1))\n",
    "    ax[1].set_xlabel(\"Teneur en \"+show_switch+\" (en %masse)\")\n",
    "    \n",
    "    ax[1].set_title(\"Gamme d'incertitude en teneur ({})\".format(show_switch))\n",
    "    \n",
    "    fig.set_size_inches((16,4))"
   ]
  },
  {
   "cell_type": "markdown",
   "metadata": {},
   "source": [
    "Faites varier l'interval de confiance et les teneurs pour voir leurs influences sur l'erreur absolue."
   ]
  },
  {
   "cell_type": "markdown",
   "metadata": {},
   "source": [
    "### Visualisation de l'effet de la masse de l'échantillon $M_e$"
   ]
  },
  {
   "cell_type": "markdown",
   "metadata": {},
   "source": [
    "$M_e$ et $M_L$ représentent les masses de l'échantillon et du lot estimé.<br>En pratique. on considèrera souvent le lot comme très grand par rapport à l'échantillon. donc on peut en faire abstraction : $\\left(\\frac{1}{M_e}-\\frac{1}{M_L}\\right)\\approx\\frac{1}{M_e}$"
   ]
  },
  {
   "cell_type": "code",
   "execution_count": 4,
   "metadata": {},
   "outputs": [],
   "source": [
    "def sample_mass_factor(Me,ML=None):\n",
    "    if ML is None:\n",
    "        return 1/Me\n",
    "    else:\n",
    "        return 1/Me - 1/ML\n",
    "def mass_factor_simplification_overestimate_perc(Me,ML):\n",
    "    return (1/ML)/(1/Me - 1/ML)*100\n",
    "def compute_var_EF(Me,ML=None,c=1,g=1,l=1,f=1,d=1):\n",
    "    return sample_mass_factor(Me,ML)*c*g*l*f*(d**3)"
   ]
  },
  {
   "cell_type": "code",
   "execution_count": 5,
   "metadata": {
    "hide_input": true
   },
   "outputs": [
    {
     "data": {
      "application/vnd.jupyter.widget-view+json": {
       "model_id": "51bb877ee95c48e68f71892e83996ddd",
       "version_major": 2,
       "version_minor": 0
      },
      "text/plain": [
       "interactive(children=(FloatLogSlider(value=100.0, continuous_update=False, description='Masse du lot', max=6.0…"
      ]
     },
     "metadata": {},
     "output_type": "display_data"
    }
   ],
   "source": [
    "@interact(ML=widgets.FloatLogSlider(min=0,max=6,step=0.2,value=100,description=\"Masse du lot\",continuous_update=False))\n",
    "def interact_mass_effect(ML):\n",
    "    Me_x = np.linspace(1,0.95*ML,100)\n",
    "\n",
    "    fig,ax = plt.subplots(1,2)\n",
    "    ax[0].set_title(\"Effet de la masse de l'échantillon\")\n",
    "    ax[0].set_ylabel(\"Erreur fondamentale relative normalisée (%)\")\n",
    "    ax[0].plot(Me_x,compute_std(1,compute_var_EF(Me_x)),label=\"sans considérer la masse du lot\")\n",
    "    ax[0].plot(Me_x,compute_std(1,compute_var_EF(Me_x,ML=ML)),label=\"en considérant un lot de {}g\".format(ML))\n",
    "    ax[0].set_xlabel(\"Masse de l'échantillon (Me) en g\")\n",
    "    ax[0].set_yticks(np.arange(0.1,1.10,0.1))\n",
    "    ax[0].set_yticklabels(np.arange(10,110,10))\n",
    "    ax[0].legend()\n",
    "    \n",
    "    Me_x = np.linspace(1,0.75*ML,100)\n",
    "    ax[1].set_title(\"Surestimation de l'erreur du à la simplification de \"+r\"$M_L$: $\\frac{1/M_L}{1/M_e - 1/M_L}$\")\n",
    "    ax[1].set_ylabel(\"Portion de l'Erreur fondamentale surestimée\")\n",
    "    overestimates = mass_factor_simplification_overestimate_perc(Me_x[:-1],ML)\n",
    "    ax[1].plot(Me_x[:-1],overestimates)\n",
    "    ax[1].set_xlabel(\"Masse de l'échantillon (Me) en g\")\n",
    "    ax[1].set_yticks(np.append([0,20,50,75],np.arange(100,overestimates.max(),100)))\n",
    "    \n",
    "    fig.set_size_inches((16,4))\n",
    "    "
   ]
  },
  {
   "cell_type": "markdown",
   "metadata": {},
   "source": [
    "L'augmentation de la masse d'échantillon fait rapidement chuter l'erreur fondamental (i.e.. l'incertitude).\n",
    "\n",
    "Le fait d'ignorer la masse du lot est négligeable tant que l'échantillon reste petit par rapport au lot.<br>\n",
    "A combien s'élève cette surestimation pour un échantillon représentant 10% de la masse du lot ?"
   ]
  },
  {
   "cell_type": "markdown",
   "metadata": {},
   "source": [
    "### Visualisation de l'effet du facteur de composition $c$"
   ]
  },
  {
   "cell_type": "markdown",
   "metadata": {},
   "source": [
    "Le facteur de composition $c$ prend en compte la proportion de minéraux d'intérêt dans l'ensemble \n",
    "\n",
    "$c =\\left(\\frac{1-t_A}{t_A}\\right)\\big[(1-t_A)\\rho_A + t_A \\rho_G\\big]$. où :\n",
    "* $t_A$ est la proportion massique de minéraux d'intéret\n",
    "* $\\rho_A$ est la masse volumique du minéral d'intérêt\n",
    "* $\\rho_G$ est la masse volumique de la gangue"
   ]
  },
  {
   "cell_type": "code",
   "execution_count": 6,
   "metadata": {},
   "outputs": [],
   "source": [
    "def compute_composition_factor(tA,rhoA,rhoG):\n",
    "    return (1-tA)/tA*((1-tA)*rhoA + tA*rhoG)"
   ]
  },
  {
   "cell_type": "code",
   "execution_count": 7,
   "metadata": {},
   "outputs": [
    {
     "data": {
      "application/vnd.jupyter.widget-view+json": {
       "model_id": "f0353332ff2f48baa7ee462b7daeeaf8",
       "version_major": 2,
       "version_minor": 0
      },
      "text/plain": [
       "interactive(children=(FloatSlider(value=5.0, continuous_update=False, description='$\\\\rho_A$: Masse volumique …"
      ]
     },
     "metadata": {},
     "output_type": "display_data"
    }
   ],
   "source": [
    "@interact(rho_A = widgets.FloatSlider(min=1,max=15,step=0.1,value=5,description=r\"$\\rho_A$: Masse volumique A (g/cm^3)\",continuous_update=False),\n",
    "         rho_G = widgets.FloatSlider(min=1,max=15,step=0.1,value=3,description=r\"$\\rho_G$: Masse volumique G (g/cm^3)\",continuous_update=False))\n",
    "def interact_composition_factor(rho_A,rho_G):\n",
    "    tA_x = np.linspace(0,1,100)[1:]\n",
    "    plt.plot(tA_x,compute_composition_factor(tA_x,rho_A,rho_G))\n",
    "    plt.title(\"Effet du facteur de composition\")\n",
    "    plt.ylabel(\"Facteur de composition ($c$)\")\n",
    "    plt.xlabel(\"Proportion massique de A dans le lot\")"
   ]
  },
  {
   "cell_type": "markdown",
   "metadata": {},
   "source": [
    "Attention. $t_A$ est bien la proportion massique de minéraux et non de l'élement chimique recherché. Il faut mettre ces deux quantités en relation par : \n",
    "\n",
    "$t_e = t_{e|A}\\cdot t_{A}$ \\hspace{2cm} $ t_A = \\frac{t_{e}}{t_{e|A}}$. \\hspace{2cm} avec :<br> \n",
    "* $t_e$ : la teneur massique en élément $e$ dans le matériau\n",
    "* $t_A$ : la teneur massique de minéraux $A$ dans le matériau\n",
    "* $t_{e|A}$ : la teneur massique (i.e.. proportion en masse) de l'élément $e$ dans $A$\n",
    "\n"
   ]
  },
  {
   "cell_type": "markdown",
   "metadata": {},
   "source": [
    "$t_{e|A}$ peut s'estimer grâce à la formule chimique du minéral porteur et aux masses molaires. Par exemple pour la chalcopyrite ($CuFeS_2$):\n",
    "\n",
    "$t_{Cu|CuFeS_2} = \\frac{\\mathrm{M}_{Cu}}{\\mathrm{M}_{Cu}+\\mathrm{M}_{Fe}+2\\cdot \\mathrm{M}_S}$"
   ]
  },
  {
   "cell_type": "markdown",
   "metadata": {},
   "source": [
    "### Visualisation de l'effet du facteur de granulométrie $g$"
   ]
  },
  {
   "cell_type": "markdown",
   "metadata": {},
   "source": [
    "$g$ est un facteur de distribution qui prend en compte la répartition de la granulométrie.\n",
    "\n",
    "Ce facteur dépend des dimensions $d_{5\\%}$ et $d_{95\\%}$.\n",
    " * Cette notation $d_{i\\%}$ décrit la taille de maille retenant $i\\%$ de sa masse. \n",
    " * $d_{5\\%}$ est donc une taille assez grande qui ne retient que les 5%(en masse) des grains les plus gros \n",
    " * $d_{95\\%}$ est une taille plus petite qui retient 95% de la masse, donc quasiment l'ensemble des grains des grains, sauf les 5% de masse représentée par la fraction la plus fine.\n",
    " \n",
    "$g$ est fixé suivant ce tableau :\n",
    "\n",
    "| $d_{5\\%} / d_{95\\%}$ | $g$ | \n",
    "|----------------------|-----|\n",
    "|   >4  | 0.4    |\n",
    "|   2< ... < 4  | 0.5    |\n",
    "|   1< ... < 2  | 0.75    |\n",
    "|    1 | 1|\n",
    "\n",
    "Si $d_{5\\%}$ et $d_{95\\%}$ ne sont pas connus on prendra $g = 0.25$"
   ]
  },
  {
   "cell_type": "code",
   "execution_count": 8,
   "metadata": {},
   "outputs": [],
   "source": [
    "def compute_d(granulo,mass,perc):\n",
    "    cum = np.cumsum(mass)\n",
    "    cum = cum/cum[-1]\n",
    "    perc = (100-perc)/100\n",
    "    first = np.argwhere(cum > perc).ravel()[0]\n",
    "    if first>0:\n",
    "        seg = first-1\n",
    "        alpha = (perc-cum[seg])/(cum[seg+1]-cum[seg])\n",
    "        return [(1-alpha)*granulo[seg] + alpha*granulo[seg+1],\n",
    "                (1-alpha)*mass[seg] + alpha*mass[seg+1]]\n",
    "    else:\n",
    "        return [granulo[0],mass[0]]\n",
    "\n",
    "def compute_g(d5=None,d95=None):\n",
    "    if d5 is None or d95 is None:\n",
    "        return 0.25\n",
    "    ratio  = d5/d95\n",
    "    if ratio == 1:\n",
    "        return 1\n",
    "    elif ratio < 2:\n",
    "        return 0.75\n",
    "    elif ratio < 4:\n",
    "        return 0.5\n",
    "    else:\n",
    "        return 0.4"
   ]
  },
  {
   "cell_type": "code",
   "execution_count": 9,
   "metadata": {},
   "outputs": [
    {
     "data": {
      "application/vnd.jupyter.widget-view+json": {
       "model_id": "91b5118886c441389d2bf0a2a78709bf",
       "version_major": 2,
       "version_minor": 0
      },
      "text/plain": [
       "interactive(children=(IntSlider(value=90, description='d5', min=1), IntSlider(value=10, description='d95', min…"
      ]
     },
     "metadata": {},
     "output_type": "display_data"
    }
   ],
   "source": [
    "@interact(d5=widgets.IntSlider(min=1,max=100,value=90,step=1),\n",
    "         d95=widgets.IntSlider(min=1,max=100,value=10,step=1))\n",
    "def interact_g(d5,d95):\n",
    "    if d5<d95:\n",
    "        print(\"d5% doit être plus grand que d95%\")\n",
    "    else:\n",
    "        print(\"Le facteur de granulométrie g vaut :\",compute_g(d5,d95))"
   ]
  },
  {
   "cell_type": "code",
   "execution_count": 10,
   "metadata": {},
   "outputs": [
    {
     "data": {
      "application/vnd.jupyter.widget-view+json": {
       "model_id": "3af9f2a0d08848f78aaffde9ca85af30",
       "version_major": 2,
       "version_minor": 0
      },
      "text/plain": [
       "interactive(children=(IntSlider(value=50, continuous_update=False, description='$d_{\\\\%}$', max=99, min=1), Ou…"
      ]
     },
     "metadata": {},
     "output_type": "display_data"
    }
   ],
   "source": [
    "@interact(perc=widgets.IntSlider(min=1,max=99,step=1,value=50,description=r\"$d_{\\%}$\",continuous_update=False))\n",
    "def interact_d(perc):\n",
    "    granulo_limits = np.array([0,0.04,0.08,0.16,0.315,0.63,1.25,2.5,5,12.5,20,40])\n",
    "    granulo_center = 0.5*(granulo_limits[:-1]+granulo_limits[1:])\n",
    "    granulo_mass = np.array([198,150,184,106,89.2,98,83.7,23.7,14.8,13.3,39.3])[::-1]\n",
    "    plt.semilogx(granulo_center,granulo_mass)\n",
    "    plt.title(\"Répartition granulométrique\")\n",
    "    plt.xlabel(\"Granulométrie (mm)\")\n",
    "    plt.ylabel(\"Masse (g)\")\n",
    "\n",
    "    d5,mass5 = compute_d(granulo_center,granulo_mass,5)\n",
    "    plt.plot([d5,d5],[0,mass5],\"k--\")\n",
    "    plt.text(d5,mass5*1.15,r\"$d_{\"+\"{}\".format(5)+\"\\%}$\",\n",
    "             {'color': 'black', 'fontsize': 12, 'ha': 'center', 'va': 'center',\n",
    "              'bbox': dict(boxstyle=\"round\", fc=\"white\", pad=0.15)})\n",
    "    d95,mass95 = compute_d(granulo_center,granulo_mass,95)\n",
    "    plt.plot([d95,d95],[0,mass95],\"k--\")\n",
    "    plt.text(d95,mass95*1.15,r\"$d_{\"+\"{}\".format(95)+\"\\%}$\",\n",
    "             {'color': 'black', 'fontsize': 12, 'ha': 'center', 'va': 'center',\n",
    "              'bbox': dict(boxstyle=\"round\", fc=\"white\", pad=0.15)})\n",
    "    \n",
    "    d,mass = compute_d(granulo_center,granulo_mass,perc)\n",
    "    plt.plot([d,d],[0,mass])\n",
    "    granulo_fill = np.append([d],granulo_center[granulo_center>d])\n",
    "    mass_fill = np.append([mass],granulo_mass[granulo_center>d])\n",
    "    plt.fill_between(granulo_fill,mass_fill,0)\n",
    "    plt.text(d,mass*1.15,r\"$d_{\"+\"{}\".format(perc)+\"\\%}$\",\n",
    "             {'color': 'black', 'fontsize': 14, 'ha': 'center', 'va': 'center',\n",
    "              'bbox': dict(boxstyle=\"round\", fc=\"white\", pad=0.2)})\n"
   ]
  },
  {
   "cell_type": "markdown",
   "metadata": {},
   "source": [
    "Attention, ce paramètre peut être contre-intuitif. C'est bien la maille qui retient n% de la masse.\n",
    "\n",
    "$d_{5\\%}$ est donc une borne relativement haute de la gamme de granulométrie, alors que $d_{95\\%}$ représente la taille des plus petites particules."
   ]
  },
  {
   "cell_type": "markdown",
   "metadata": {},
   "source": [
    "### Visualisation de l'effet du facteur de libération $l$"
   ]
  },
  {
   "cell_type": "markdown",
   "metadata": {},
   "source": [
    "$l$ : est le facteur de libération. Il permet de tenir compte du fait que les minéraux d'intérêts (A) sont au départ pris dans la gangue. Plus les grains sont broyés fins et plus il y a de chance que le minéraux A se retrouvent complètement libéré de leur gangue. \n",
    " * $d_l$ : est la dimension de libération commençante. i.e., la taille à laquelle les particules auront libéré 5% des minéraux A. En d'autres termes. si on réduit des grains à cette taille de manière homogène. 5% de la masse des minéraux A sera libre. 95% sera toujours attaché à des minéraux de gangue.\n",
    " * $l$ varie entre 0 et 1 : à 0 la libération est nulle, à 1 elle est totale\n",
    " * si $d_{5\\%}\\leq d_l$, on prendra : $l=1$ (5% des grains doivent être plus gros que $d_l$ donc 95% de A est libéré , on considère qu'on a atteint la maille de libération)\n",
    " * si $d_{5\\%}> d_l$, on considèrera : $l=\\sqrt{\\frac{d_l}{d_{5\\%}}}$ (moins de 5% des A sont libres la libération n'est donc que trop partielle, ce dont tient compte $l$)"
   ]
  },
  {
   "cell_type": "markdown",
   "metadata": {},
   "source": [
    "Le broyage permet de réduire la taille des grains et diminue donc $d_{5\\%}$."
   ]
  },
  {
   "cell_type": "code",
   "execution_count": 11,
   "metadata": {
    "hide_input": true
   },
   "outputs": [],
   "source": [
    "def compute_liberation_factor(d5,dl):\n",
    "    return np.where(d5<=dl,1,np.sqrt(dl/d5))"
   ]
  },
  {
   "cell_type": "code",
   "execution_count": 12,
   "metadata": {
    "hide_input": true
   },
   "outputs": [
    {
     "data": {
      "application/vnd.jupyter.widget-view+json": {
       "model_id": "68188d353fbb4458ad8651489f5d8adb",
       "version_major": 2,
       "version_minor": 0
      },
      "text/plain": [
       "interactive(children=(FloatLogSlider(value=1.0, continuous_update=False, description='dl: Maille de libération…"
      ]
     },
     "metadata": {},
     "output_type": "display_data"
    }
   ],
   "source": [
    "@interact(dl=widgets.FloatLogSlider(min=-3,max=3,value=1,step=0.1,description=\"dl: Maille de libération commençante (mm)\",continuous_update=False),\n",
    "         d5=widgets.FloatLogSlider(min=-3,max=3,value=2,step=0.1,description=\"d5 (mm)\",continuous_update=False))\n",
    "def interact_liberation(dl,d5):\n",
    "    d_x = 10**np.linspace(-3,3,1000)\n",
    "    plt.semilogx(d_x, compute_liberation_factor(d_x,dl))\n",
    "    plt.title(\"Effet du facteur de libération\")\n",
    "    plt.ylabel(\"Contribution de l\")\n",
    "    plt.xlabel(\"$d_{5\\%}$ (mm)\")\n",
    "    plt.ylim(0,1.05)\n",
    "    plt.axvline(x=dl,color='r',linestyle=\"--\",ymax=0.98,label=\"dl\")\n",
    "    \n",
    "    l=compute_liberation_factor(d5,dl)\n",
    "    plt.scatter(d5,l,color=\"r\")\n",
    "    plt.semilogx([d5,d5],[0,l],\"r-\",label=\"$d_{5\\%}$\") \n",
    "    \n",
    "    handles,labels = plt.gca().get_legend_handles_labels()\n",
    "    handles.append(patches.Patch(color='none', label=\"l={:0.2f}\".format(l)))\n",
    "    plt.legend(handles=handles)\n"
   ]
  },
  {
   "cell_type": "markdown",
   "metadata": {},
   "source": [
    "### Visualisation de l'effet volumetrique"
   ]
  },
  {
   "cell_type": "markdown",
   "metadata": {},
   "source": [
    "$f 𝑑^3$ : rend compte du volume des particules : \n",
    " * $d$ correspond au diamètre des particules le splus fines, en pratique on prend $d=d_{95\\%}$.\n",
    " * $f$ est un facteur de forme. C'est le coefficient à appliquer pour passer d'une taille au cube à un volume :\n",
    "  * pour des particules cubiques : $d$ représente le côté, donc le volume est $d^3$, ce qui correspond à $f=1$\n",
    "  * pour des particules sphériques : $d$ représente le diamètre, donc le volume est $\\frac{4}{3}\\pi\\left(\\frac{d}{2}\\right)^3 = \\frac{\\pi}{6}d^3$, ce qui correspond à $f=\\frac{\\pi}{6}=0.5236$\n",
    "  * pour des particules allongées, e.g., l'or alluvial, on pourra prendre $f=0.2$\n",
    "  * par défaut, si on ne connait pas la forme des particules on considèrera qu'elles sont proches de sphère : $f=0.5$"
   ]
  },
  {
   "cell_type": "code",
   "execution_count": 13,
   "metadata": {},
   "outputs": [],
   "source": [
    "shape_factor={\n",
    "    \"cube\":1,\n",
    "    \"sphere\":np.pi/6,\n",
    "    \"flake\":0.2,\n",
    "    \"default\":0.5\n",
    "}\n",
    "def compute_volumetric_effect(d,shape=\"default\"):\n",
    "    return shape_factor[shape]*d**3"
   ]
  },
  {
   "cell_type": "code",
   "execution_count": 14,
   "metadata": {},
   "outputs": [
    {
     "data": {
      "text/plain": [
       "<matplotlib.legend.Legend at 0x23ebf8bccc0>"
      ]
     },
     "execution_count": 14,
     "metadata": {},
     "output_type": "execute_result"
    },
    {
     "data": {
      "image/png": "[encoded data removed]",
      "text/plain": [
       "<Figure size 432x288 with 1 Axes>"
      ]
     },
     "metadata": {},
     "output_type": "display_data"
    }
   ],
   "source": [
    "shape=[\"cube\",\"sphere\",\"flake\",\"default\"]\n",
    "d_x = 10**np.linspace(-3,2,1000)\n",
    "plt.xlabel(\"$d_{5\\%}$ (mm)\")\n",
    "plt.title(\"Effet du volume des particules\")\n",
    "for shape_i in shape:\n",
    "    plt.plot(d_x,compute_volumetric_effect(d_x,shape_i),label=shape_i)\n",
    "plt.legend()\n"
   ]
  },
  {
   "cell_type": "markdown",
   "metadata": {},
   "source": [
    "# Applications de la formule de Gy simplifiée"
   ]
  },
  {
   "cell_type": "code",
   "execution_count": 126,
   "metadata": {},
   "outputs": [],
   "source": [
    "def transform_grade_to_mineral(te,element,mineral,verbose=True):\n",
    "    molar_mass_element = Formula(element).rmm\n",
    "    molar_mass_mineral = Formula(mineral).rmm\n",
    "    stoechio = Formula(mineral).atom_stoich[element]\n",
    "    \n",
    "    tA = te*molar_mass_mineral*stoechio/molar_mass_element\n",
    "    if verbose: print(\"Pour une teneur en Cu de {:.2f}% on a une teneur en Chalcopyrite de {:.2f}%\".format(te*100,tA*100))\n",
    "    return tA\n",
    "\n",
    "def compute_factors(d5,tA,rhoA,rhoG,dl,d95=None,shape=\"default\",ML=None,verbose=True):\n",
    "    if verbose: print(\"Calculs des facteurs contribuants à l'erreur fondamentale\")\n",
    "    composition_factor = compute_composition_factor(tA=tA,rhoA=rhoA,rhoG=rhoG)\n",
    "    if verbose: print(\"  Composition factor: c={:.4f}\".format(composition_factor))\n",
    "    granulo_factor = compute_g(d5,d95)\n",
    "    if verbose: print(\"  Granulometric factor: g={:.4f}\".format(granulo_factor))\n",
    "    liberation_factor = compute_liberation_factor(d5=d5,dl=dl)\n",
    "    if verbose: print(\"  Liberation factor: l={:.4f}\".format(liberation_factor))\n",
    "    \n",
    "    volumetric_factor = compute_volumetric_effect(d5,shape)\n",
    "    if verbose: print(\"  Shape factor: f={}\".format(shape_factor[shape]))\n",
    "    if verbose: print(\"  Volumetric factor: fd**3={:.4f}\".format(volumetric_factor))\n",
    "    \n",
    "    return composition_factor * granulo_factor * liberation_factor * volumetric_factor\n",
    "\n",
    "def confidence2std(confidence_perc):\n",
    "    return norm().isf((1-confidence_perc/100)/2)\n",
    "    \n",
    "def compute_EF(Me,d5,tA,rhoA,rhoG,dl,d95=None,shape=\"default\",ML=None,verbose=True,confidence_perc=95):\n",
    "    sample_mass_factor = 1/Me\n",
    "    lot_mass_factor = 0 if ML is None else 1/ML\n",
    "    mass_factor = sample_mass_factor - lot_mass_factor\n",
    "    if verbose: print(\"Mass factor: 1/Me - 1/ML =\",mass_factor)\n",
    "    \n",
    "    var_relative = mass_factor * compute_factors(d5,tA,rhoA,rhoG,dl,d95,shape,ML,verbose)\n",
    "    if verbose:\n",
    "        print(\"The estimated relative variance: {}\".format(var_relative))\n",
    "    if verbose: print(\"Using a confidence interval gathering {}% of possible values\".format(confidence_perc))\n",
    "    n = confidence2std(confidence_perc)\n",
    "    if verbose: print(\"This confidence range corresponds to {:.2f} standard deviations\".format(n))\n",
    "    EF = n*np.sqrt(var_relative)\n",
    "    if verbose: print(\"The Fondamental Error (EF) is {:0.2f}%\".format(EF*100))\n",
    "    return EF\n",
    "\n",
    "def compute_sample_mass(EF,d5,tA,rhoA,rhoG,dl,d95=None,shape=\"default\",ML=None,verbose=True,confidence_perc=95):\n",
    "    \"\"\"\n",
    "    EF (%): is the relative error with a confidence interval given by confidence_perc\n",
    "    d5 (cm): size of the largest particles \n",
    "    tA : grade in terms of mineral A\n",
    "    rhoA and rhoG (g/cm^3): volumetric mass of mineral A and bulk\n",
    "    dl (cm): liberation size\n",
    "    result in g\n",
    "    \"\"\"\n",
    "    \n",
    "    if verbose: print(\"Using a confidence interval gathering {}% of possible values\".format(confidence_perc))\n",
    "    n = confidence2std(confidence_perc)\n",
    "    if verbose: print(\"This confidence range corresponds to {:.2f} standard deviations\".format(n))\n",
    "    var_relative = (EF/n)**2\n",
    "    if verbose:\n",
    "        print(\"With a Fondamental error (EF) of: {}\".format(EF))\n",
    "        print(\"Target relative variance: {}\".format(var_relative))\n",
    "    \n",
    "    sample_mass = 1/var_relative * compute_factors(d5,tA,rhoA,rhoG,dl,d95,shape,ML,verbose)\n",
    "    if verbose:\n",
    "        if sample_mass >10**6:\n",
    "            print(\"Sample mass: {:.3f}t\".format(sample_mass/10**6))\n",
    "        elif sample_mass >10**3:\n",
    "            print(\"Sample mass: {:.3f}kg\".format(sample_mass/10**3))\n",
    "        else:\n",
    "            print(\"Sample mass: {:.3f}g\".format(sample_mass))\n",
    "    return sample_mass"
   ]
  },
  {
   "cell_type": "markdown",
   "metadata": {},
   "source": [
    "## Calculs d'incertitude"
   ]
  },
  {
   "cell_type": "markdown",
   "metadata": {},
   "source": [
    "### Chacopyrite"
   ]
  },
  {
   "cell_type": "markdown",
   "metadata": {},
   "source": [
    "On considère un minerai de cuivre concassé à 12,5 mm présentant les caractéristiques suivantes :\n",
    "* la teneur en cuivre ($t_{Cu}$) est de 0.8 % en masse\n",
    "* le cuivre est porté par la chalcopyrite ($CuFeS_2$)\n",
    "* les observations minéralogiques montrent que la maille de libération ($dl$) est de 0,01 cm"
   ]
  },
  {
   "cell_type": "code",
   "execution_count": 127,
   "metadata": {},
   "outputs": [
    {
     "name": "stdout",
     "output_type": "stream",
     "text": [
      "Pour une teneur en Cu de 1.00% on a une teneur en Chalcopyrite de 2.89%\n",
      "Using a confidence interval gathering 68.4% of possible values\n",
      "This confidence range corresponds to 1.00 standard deviations\n",
      "With a Fondamental error (EF) of: 0.2\n",
      "Target relative variance: 0.03978394599364574\n",
      "Calculs des facteurs contribuants à l'erreur fondamentale\n",
      "  Composition factor: c=140.0718\n",
      "  Granulometric factor: g=0.2500\n",
      "  Liberation factor: l=0.0447\n",
      "  Shape factor: f=0.5\n",
      "  Volumetric factor: fd**3=62500.0000\n",
      "Sample mass: 2.460t\n"
     ]
    }
   ],
   "source": [
    "te = 1/100\n",
    "tA = transform_grade_to_mineral(te,\"Cu\",\"CuFeS2\")\n",
    "sample_te_1_d5_50 = compute_sample_mass(EF=0.2,d5=50,tA=tA,rhoA=4.2,rhoG=3,dl=0.1,verbose=True,confidence_perc=68.4)"
   ]
  },
  {
   "cell_type": "code",
   "execution_count": 128,
   "metadata": {},
   "outputs": [
    {
     "name": "stdout",
     "output_type": "stream",
     "text": [
      "Pour une teneur en Cu de 5.00% on a une teneur en Chalcopyrite de 14.44%\n",
      "Using a confidence interval gathering 68.4% of possible values\n",
      "This confidence range corresponds to 1.00 standard deviations\n",
      "With a Fondamental error (EF) of: 0.2\n",
      "Target relative variance: 0.03978394599364574\n",
      "Calculs des facteurs contribuants à l'erreur fondamentale\n",
      "  Composition factor: c=23.8607\n",
      "  Granulometric factor: g=0.2500\n",
      "  Liberation factor: l=0.0447\n",
      "  Shape factor: f=0.5\n",
      "  Volumetric factor: fd**3=62500.0000\n",
      "Sample mass: 419.093kg\n"
     ]
    }
   ],
   "source": [
    "te = 5/100\n",
    "tA = transform_grade_to_mineral(te,\"Cu\",\"CuFeS2\")\n",
    "sample_te_5_d5_50 = compute_sample_mass(EF=0.2,d5=50,tA=tA,rhoA=4.2,rhoG=3,dl=0.1,verbose=True,confidence_perc=68.4)"
   ]
  },
  {
   "cell_type": "code",
   "execution_count": 129,
   "metadata": {},
   "outputs": [
    {
     "name": "stdout",
     "output_type": "stream",
     "text": [
      "Pour une teneur en Cu de 1.00% on a une teneur en Chalcopyrite de 2.89%\n",
      "Using a confidence interval gathering 68.4% of possible values\n",
      "This confidence range corresponds to 1.00 standard deviations\n",
      "With a Fondamental error (EF) of: 0.2\n",
      "Target relative variance: 0.03978394599364574\n",
      "Calculs des facteurs contribuants à l'erreur fondamentale\n",
      "  Composition factor: c=140.0718\n",
      "  Granulometric factor: g=0.2500\n",
      "  Liberation factor: l=0.1000\n",
      "  Shape factor: f=0.5\n",
      "  Volumetric factor: fd**3=500.0000\n",
      "Sample mass: 44.010kg\n"
     ]
    }
   ],
   "source": [
    "te = 1/100\n",
    "tA = transform_grade_to_mineral(te,\"Cu\",\"CuFeS2\")\n",
    "sample_te_1_d5_10 = compute_sample_mass(EF=0.2,d5=10,tA=tA,rhoA=4.2,rhoG=3,dl=0.1,verbose=True,confidence_perc=68.4)"
   ]
  },
  {
   "cell_type": "code",
   "execution_count": 130,
   "metadata": {},
   "outputs": [
    {
     "name": "stdout",
     "output_type": "stream",
     "text": [
      "Pour une teneur en Cu de 5.00% on a une teneur en Chalcopyrite de 14.44%\n",
      "Using a confidence interval gathering 68.4% of possible values\n",
      "This confidence range corresponds to 1.00 standard deviations\n",
      "With a Fondamental error (EF) of: 0.2\n",
      "Target relative variance: 0.03978394599364574\n",
      "Calculs des facteurs contribuants à l'erreur fondamentale\n",
      "  Composition factor: c=23.8607\n",
      "  Granulometric factor: g=0.2500\n",
      "  Liberation factor: l=0.1000\n",
      "  Shape factor: f=0.5\n",
      "  Volumetric factor: fd**3=500.0000\n",
      "Sample mass: 7.497kg\n"
     ]
    }
   ],
   "source": [
    "te = 5/100\n",
    "tA = transform_grade_to_mineral(te,\"Cu\",\"CuFeS2\")\n",
    "sample_te_5_d5_10 = compute_sample_mass(EF=0.2,d5=10,tA=tA,rhoA=4.2,rhoG=3,dl=0.1,verbose=True,confidence_perc=68.4)"
   ]
  },
  {
   "cell_type": "code",
   "execution_count": 131,
   "metadata": {},
   "outputs": [
    {
     "name": "stdout",
     "output_type": "stream",
     "text": [
      "Mass factor: 1/Me - 1/ML = 0.01\n",
      "Calculs des facteurs contribuants à l'erreur fondamentale\n",
      "  Composition factor: c=43.2000\n",
      "  Granulometric factor: g=0.7500\n",
      "  Liberation factor: l=0.2000\n",
      "  Shape factor: f=0.5\n",
      "  Volumetric factor: fd**3=0.0078\n",
      "The estimated relative variance: 0.0005062500000000001\n",
      "Using a confidence interval gathering 68.4% of possible values\n",
      "This confidence range corresponds to 1.00 standard deviations\n",
      "The Fondamental Error (EF) is 2.26%\n"
     ]
    }
   ],
   "source": [
    "te = 5/10**6\n",
    "tA = te / (50/10**6)\n",
    "gold_pyrite = compute_EF(Me=100,d5=0.25,tA=tA,rhoA=5,rhoG=3,dl=0.01,d95=0.2,verbose=True,confidence_perc=68.4)"
   ]
  },
  {
   "cell_type": "code",
   "execution_count": 141,
   "metadata": {},
   "outputs": [
    {
     "name": "stdout",
     "output_type": "stream",
     "text": [
      "Mass factor: 1/Me - 1/ML = 0.01\n",
      "Calculs des facteurs contribuants à l'erreur fondamentale\n",
      "  Composition factor: c=3799965.0001\n",
      "  Granulometric factor: g=0.7500\n",
      "  Liberation factor: l=0.0632\n",
      "  Shape factor: f=0.2\n",
      "  Volumetric factor: fd**3=0.0031\n",
      "The estimated relative variance: 5.632755201175648\n",
      "Using a confidence interval gathering 68.4% of possible values\n",
      "This confidence range corresponds to 1.00 standard deviations\n",
      "The Fondamental Error (EF) is 237.98%\n"
     ]
    },
    {
     "data": {
      "text/plain": [
       "[-1.832139911087989e-05, 2.832139911087989e-05]"
      ]
     },
     "execution_count": 141,
     "metadata": {},
     "output_type": "execute_result"
    }
   ],
   "source": [
    "te = 5/10**6\n",
    "tA = te \n",
    "gold_pyrite_EF = compute_EF(Me=100,d5=0.25,tA=tA,rhoA=19,rhoG=3,dl=0.001,shape=\"flake\",d95=0.2,verbose=True,confidence_perc=68.4)"
   ]
  },
  {
   "cell_type": "code",
   "execution_count": 145,
   "metadata": {},
   "outputs": [
    {
     "name": "stdout",
     "output_type": "stream",
     "text": [
      "Mass factor: 1/Me - 1/ML = 0.00025\n",
      "Calculs des facteurs contribuants à l'erreur fondamentale\n",
      "  Composition factor: c=3799965.0001\n",
      "  Granulometric factor: g=0.7500\n",
      "  Liberation factor: l=0.0632\n",
      "  Shape factor: f=0.2\n",
      "  Volumetric factor: fd**3=0.0031\n",
      "The estimated relative variance: 0.14081888002939122\n",
      "Using a confidence interval gathering 68.4% of possible values\n",
      "This confidence range corresponds to 1.00 standard deviations\n",
      "The Fondamental Error (EF) is 37.63%\n"
     ]
    }
   ],
   "source": [
    "te = 5/10**6\n",
    "tA = te \n",
    "gold_pyrite_EF = compute_EF(Me=4000,d5=0.25,tA=tA,rhoA=19,rhoG=3,dl=0.001,shape=\"flake\",d95=0.2,verbose=True,confidence_perc=68.4)"
   ]
  },
  {
   "cell_type": "code",
   "execution_count": 147,
   "metadata": {},
   "outputs": [
    {
     "name": "stdout",
     "output_type": "stream",
     "text": [
      "Mass factor: 1/Me - 1/ML = 0.01\n",
      "Calculs des facteurs contribuants à l'erreur fondamentale\n",
      "  Composition factor: c=3799965.0001\n",
      "  Granulometric factor: g=0.7500\n",
      "  Liberation factor: l=0.1414\n",
      "  Shape factor: f=0.2\n",
      "  Volumetric factor: fd**3=0.0000\n",
      "The estimated relative variance: 0.10076178824355406\n",
      "Using a confidence interval gathering 68.4% of possible values\n",
      "This confidence range corresponds to 1.00 standard deviations\n",
      "The Fondamental Error (EF) is 31.83%\n"
     ]
    }
   ],
   "source": [
    "te = 5/10**6\n",
    "tA = te \n",
    "gold_pyrite_EF = compute_EF(Me=100,d5=0.05,tA=tA,rhoA=19,rhoG=3,dl=0.001,shape=\"flake\",d95=0.2,verbose=True,confidence_perc=68.4)"
   ]
  },
  {
   "cell_type": "markdown",
   "metadata": {},
   "source": [
    "## Plan d'échantillonnage"
   ]
  },
  {
   "cell_type": "code",
   "execution_count": null,
   "metadata": {},
   "outputs": [],
   "source": [
    "compute_sample_mass(EF=0.2,d5=10,tA=tA,rhoA=4.2,rhoG=3,dl=0.1,verbose=True,confidence_perc=68.4)\n",
    "\n",
    "\n",
    "\n",
    "\n",
    "\n",
    "\n",
    "\n",
    "\n",
    "\n"
   ]
  },
  {
   "cell_type": "code",
   "execution_count": null,
   "metadata": {},
   "outputs": [],
   "source": []
  },
  {
   "cell_type": "code",
   "execution_count": null,
   "metadata": {},
   "outputs": [],
   "source": []
  },
  {
   "cell_type": "code",
   "execution_count": null,
   "metadata": {},
   "outputs": [],
   "source": []
  }
 ],
 "metadata": {
  "celltoolbar": "Initialization Cell",
  "hide_input": false,
  "kernelspec": {
   "display_name": "Python 3",
   "language": "python",
   "name": "python3"
  },
  "language_info": {
   "codemirror_mode": {
    "name": "ipython",
    "version": 3
   },
   "file_extension": ".py",
   "mimetype": "text/x-python",
   "name": "python",
   "nbconvert_exporter": "python",
   "pygments_lexer": "ipython3",
   "version": "3.6.5"
  },
  "latex_envs": {
   "LaTeX_envs_menu_present": true,
   "autoclose": false,
   "autocomplete": true,
   "bibliofile": "biblio.bib",
   "cite_by": "apalike",
   "current_citInitial": 1,
   "eqLabelWithNumbers": true,
   "eqNumInitial": 1,
   "hotkeys": {
    "equation": "Ctrl-E",
    "itemize": "Ctrl-I"
   },
   "labels_anchors": false,
   "latex_user_defs": false,
   "report_style_numbering": false,
   "user_envs_cfg": false
  },
  "toc": {
   "base_numbering": 1,
   "nav_menu": {},
   "number_sections": true,
   "sideBar": true,
   "skip_h1_title": true,
   "title_cell": "Table of Contents",
   "title_sidebar": "Contents",
   "toc_cell": false,
   "toc_position": {},
   "toc_section_display": true,
   "toc_window_display": false
  },
  "varInspector": {
   "cols": {
    "lenName": 16,
    "lenType": 16,
    "lenVar": 40
   },
   "kernels_config": {
    "python": {
     "delete_cmd_postfix": "",
     "delete_cmd_prefix": "del ",
     "library": "var_list.py",
     "varRefreshCmd": "print(var_dic_list())"
    },
    "r": {
     "delete_cmd_postfix": ") ",
     "delete_cmd_prefix": "rm(",
     "library": "var_list.r",
     "varRefreshCmd": "cat(var_dic_list()) "
    }
   },
   "types_to_exclude": [
    "module",
    "function",
    "builtin_function_or_method",
    "instance",
    "_Feature"
   ],
   "window_display": false
  }
 },
 "nbformat": 4,
 "nbformat_minor": 2
}
