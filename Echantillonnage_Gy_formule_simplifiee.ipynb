{
 "cells": [
  {
   "cell_type": "markdown",
   "metadata": {},
   "source": [
    "**NB :** Ceci est un notebook interactif. Vous pouvez modifier les valeurs ou intéragir avec les graphiques.\n",
    "\n",
    "Pensez à (re)valider les cellules : **Maj+Entrer**"
   ]
  },
  {
   "cell_type": "code",
   "execution_count": 1,
   "metadata": {
    "hide_input": true,
    "init_cell": true
   },
   "outputs": [],
   "source": [
    "import matplotlib.pyplot as plt\n",
    "import matplotlib.patches as patches\n",
    "import numpy as np\n",
    "from ipywidgets import interact, interactive, fixed, interact_manual\n",
    "import ipywidgets as widgets\n",
    "from scipy.stats import norm,lognorm\n",
    "from itertools import permutations\n",
    "from scipy import linalg,optimize"
   ]
  },
  {
   "cell_type": "markdown",
   "metadata": {},
   "source": [
    "# Echantillonnage : Dissection de la formule simplifiée de Pierre Gy"
   ]
  },
  {
   "cell_type": "markdown",
   "metadata": {},
   "source": [
    "La formule simplifiée de Pierre Gy permet d'estimer la variance de l'erreur fondamentale lors d'un échantillonnage.\n",
    "\n",
    "$\\large \\sigma_{EF}^2=\\left(\\frac{1}{M_e}-\\frac{1}{M_L}\\right) 𝑐 𝑔 𝑙 𝑓 𝑑^3 $\n",
    "\n",
    "Elle permet de se concentrer sur l'effet :\n",
    "1. de la masse de l'échantillon prélevé ($M_e$) et \n",
    "2. la maille granulométrique prélevée (représentée par le facteur $d$, voir détails ci-dessous)"
   ]
  },
  {
   "cell_type": "markdown",
   "metadata": {},
   "source": [
    "## Explications détaillées"
   ]
  },
  {
   "cell_type": "markdown",
   "metadata": {},
   "source": [
    "Dans cette formule, on considère la teneur d'un élément chimique ($t_e$) présents au sein d'une phase minérale ($A$) prise dans une gangue qui regroupe tout le reste ($G$). \n",
    "\n",
    "Les blocs ci-dessous vont vous permettre de comprendre la signification et l'impact de chacun de ces facteurs :\n",
    "* $\\sigma_{EF}^2$ est la variance de l'erreur fondamentale (relative).<br>Cette variance relative permet de déduire un écart-type absolu $\\sigma=t_A\\sqrt{\\sigma_{EF}^2}$, en le rapportant à la teneur en minéral $t_A$.\n",
    "<br>Un interval de confiance de $\\pm 2 \\sigma$ permet d'encadrer 95% des incertitudes.<br>La valeur réelle a donc 95% de chance d'être dans une gamme $\\left[t_A-2\\sigma,t_A+2\\sigma\\right]$\n",
    "* $M_e$ et $M_L$ représentent les masses de l'échantillon et du lot estimé. En pratique, on considèrera souvent le lot comme très grand par rapport à l'échantillon, donc on peut en faire abstraction : $\\left(\\frac{1}{M_e}-\\frac{1}{M_L}\\right)\\approx\\frac{1}{M_e}$ \n",
    "* $c$ : est un facteur de composition : $c =\\left(\\frac{1-t_A}{t_A}\\right)\\big[(1-t_A)\\rho_A + t_A \\rho_G\\big]$, où $\\rho_A$ est la masse volumique du minéral d'intérêt et $\\rho_G$ celle de la gangue\n",
    "* $g$ : est un facteur de distribution qui prend en compte la répartition de la granulométrie. Ce facteur dépend des dimensions $d_{5\\%}$ et $d_{95\\%}$.\n",
    " * Cette notation $d_{i\\%}$ décrit la taille de maille retenant $i\\%$ de sa masse. \n",
    " * $d_{5\\%}$ est donc une taille assez grande qui ne retient que les 5\\%(en masse) des grains les plus gros \n",
    " * $d_{95\\%}$ est une taille plus petite qui retient 95% de la masse, donc quasiment l'ensemble des grains des grains, sauf les 5\\% de masse représentée par la fraction la plus fine.\n",
    "* $l$ : est le facteur de libération. Il permet de tenir compte du fait que les minéraux d'intérêts (A) sont au départ pris dans la gangue. Plus les grains sont broyés fins et plus il y a de chance que le minéraux A se retrouvent complètement libéré de leur gangue. \n",
    " * $d_l$ : est la dimension de libération commençante, i.e., la taille à laquelle les particules auront libéré 5% des minéraux A. En d'autres termes, si on réduit des grains à cette taille de manière homogène, 5% de la masse des minéraux A sera libre, 95% sera toujours attaché à des minéraux de gangue.\n",
    " * $l$ varie entre 0 et 1 : à 0, la libération est nulle, à 1 elle est totale\n",
    " * si $d_{95\\%}\\leq d_l$, on prendra : $l=1$ (95% des grains doivent être plus gros que $d_l$ donc 5% seulement de A est libéré, mais on considère qu'on a atteint la mailel de libération)\n",
    " * si $d_{95\\%}> d_l$, on considèrera : $l=\\sqrt{\\frac{d_l}{d_{95\\%}}}$ (moins de 5% des A sont libres la libération n'est donc que trop partielle, ce dont tient compte $l$)\n",
    "* $f 𝑑^3$ : rend compte du volume des particules : \n",
    " * $f$ est un facteur de forme. C'est le coefficient à appliquer pour passer d'une taille au cube à un volume :\n",
    "  * pour des particules cubiques : $d$ représente le côté, donc le volume est $d^3$, ce qui correspond à $f=1$\n",
    "  * pour des particules sphériques : $d$ représente le diamètre, donc le volume est $\\frac{4}{3}\\pi\\left(\\frac{d}{2}\\right)^3 = \\frac{\\pi}{6}d^3$, ce qui correspond à $f=\\frac{\\pi}{6}=0.5236$\n",
    "  * pour des particules allongées, e.g., l'or alluvial, on pourra prendre $f=0.2$\n",
    "  * par défaut, si on ne connait pas la forme des particules on considèrera qu'elles sont proches de sphère : $f=0.5$"
   ]
  },
  {
   "cell_type": "markdown",
   "metadata": {},
   "source": [
    "## Visualisation de l'effet des différents paramètres"
   ]
  },
  {
   "cell_type": "markdown",
   "metadata": {},
   "source": [
    "### Visualisation de l'effet de $\\sigma_{EF}^2$ et des teneurs $t_A$ et $t_e$\n",
    "$\\sigma_{EF}^2$ est la variance de l'erreur fondamentale (relative).\n",
    "<br>Cette variance relative permet de déduire un écart-type absolu $\\sigma=t_A\\sqrt{\\sigma_{EF}^2}$, en le rapportant à la teneur en minéral $t_A$.\n",
    "\n",
    "Un interval de confiance de $\\pm 2 \\sigma$ permet d'encadrer 95% des incertitudes. La valeur réelle a donc 95% de chance d'être dans une gamme $\\left[t_A-2\\sigma,t_A+2\\sigma\\right]$"
   ]
  },
  {
   "cell_type": "code",
   "execution_count": 2,
   "metadata": {
    "hide_input": true,
    "init_cell": true
   },
   "outputs": [],
   "source": [
    "def compute_std(tA,var_EF):\n",
    "    return tA*np.sqrt(var_EF)\n",
    "def compute_confidence_range(tA,std,confidence):\n",
    "    n=norm().isf((1-confidence/100)/2)\n",
    "    return [tA-n*std,tA+n*std]"
   ]
  },
  {
   "cell_type": "code",
   "execution_count": 4,
   "metadata": {
    "hide_input": true,
    "init_cell": true
   },
   "outputs": [
    {
     "data": {
      "application/vnd.jupyter.widget-view+json": {
       "model_id": "2b3faf9f430e41eb996fcd3abe7f93b5",
       "version_major": 2,
       "version_minor": 0
      },
      "text/plain": [
       "interactive(children=(FloatSlider(value=0.1, continuous_update=False, description='te', max=0.999, min=0.001, …"
      ]
     },
     "metadata": {},
     "output_type": "display_data"
    }
   ],
   "source": [
    "def annotate_sigma(dist,n_sigma,ax):\n",
    "    height = 0.16*(1-(abs(n_sigma)-1)/2)+0.02\n",
    "    ax.annotate(\"\", xy=(dist.mean()-n_sigma*dist.std(), height), xytext=(dist.mean(), height),\n",
    "                 arrowprops=dict(arrowstyle=\"<->\", connectionstyle=\"arc3\"))\n",
    "    ax.text(dist.mean()-n_sigma*dist.std()/2, height, r'{}$\\sigma$'.format(abs(n_sigma) if abs(n_sigma)>1 else \"\"),\n",
    "             {'color': 'black', 'fontsize': 16, 'ha': 'center', 'va': 'center',\n",
    "              'bbox': dict(boxstyle=\"round\", fc=\"white\", pad=0.2)})\n",
    "\n",
    "perc={}\n",
    "perc[1]=68\n",
    "perc[2]=95\n",
    "perc[3]=99.7\n",
    "def annotate_perc(dist,n_sigma,ax):\n",
    "    height = 0.15*(1-(abs(n_sigma)-1)/2)+0.005\n",
    "    ax.annotate(\"\", xy=(dist.mean()-n_sigma*dist.std(), height),\n",
    "                 xytext=(dist.mean()+n_sigma*dist.std(), height),\n",
    "                 arrowprops=dict(arrowstyle=\"<->\", connectionstyle=\"arc3\"))\n",
    "\n",
    "    ax.text(dist.mean(), height, \"{}%\".format(perc[n_sigma]),\n",
    "             {'color': 'black', 'fontsize': 14, 'ha': 'center', 'va': 'center',\n",
    "              'bbox': dict(boxstyle=\"round\", fc=\"white\", pad=0.2)})    \n",
    "\n",
    "@interact(te=widgets.FloatSlider(min=0.001,max=0.999,step=0.001,value=0.1,continuous_update=False),\n",
    "          tA=widgets.FloatSlider(min=0.001,max=0.999,step=0.001,value=0.1,continuous_update=False),\n",
    "          EF_perc=widgets.IntSlider(min=1,max=100,step=1,value=10,continuous_update=False),\n",
    "          confidence=widgets.FloatSlider(min=50,max=99.99,value=95.45,step=0.01,continuous_update=False),\n",
    "          show_switch=widgets.Dropdown(options=[\"minéral porteur\",\"élément d'intérêt\"],description='Teneur en :'))\n",
    "def interact_confidence_range(te,tA,EF_perc,confidence,show_switch):\n",
    "    fig,ax = plt.subplots(1,2)\n",
    "\n",
    "    N_4_2 = norm(loc=4,scale=2)\n",
    "    range_min,range_max = [-3,11]\n",
    "    x= np.linspace(range_min,range_max,100)\n",
    "    ax[0].plot(x,N_4_2.pdf(x))\n",
    "    ax[0].axvline(x=N_4_2.mean(),color='r')\n",
    "    ax[0].axvline(x=N_4_2.mean()-N_4_2.std(),color='r',linestyle=\"--\",ymax=0.9)\n",
    "    ax[0].axvline(x=N_4_2.mean()+N_4_2.std(),color='r',linestyle=\"--\",ymax=0.9)\n",
    "    ax[0].axvline(x=N_4_2.mean()-2*N_4_2.std(),color='gray',linestyle=\"--\",ymax=0.5)\n",
    "    ax[0].axvline(x=N_4_2.mean()+2*N_4_2.std(),color='gray',linestyle=\"--\",ymax=0.5)\n",
    "    ax[0].axvline(x=N_4_2.mean()-3*N_4_2.std(),color='gray',linestyle=\"--\",ymax=0.125)\n",
    "    ax[0].axvline(x=N_4_2.mean()+3*N_4_2.std(),color='gray',linestyle=\"--\",ymax=0.125)\n",
    "    annotate_sigma(N_4_2,-1,ax[0])\n",
    "    annotate_sigma(N_4_2,1,ax[0])\n",
    "    annotate_sigma(N_4_2,-2,ax[0])\n",
    "    annotate_sigma(N_4_2,2,ax[0])\n",
    "    annotate_sigma(N_4_2,-3,ax[0])\n",
    "    annotate_sigma(N_4_2,3,ax[0])\n",
    "    annotate_perc(N_4_2,1,ax[0])\n",
    "    annotate_perc(N_4_2,2,ax[0])\n",
    "    annotate_perc(N_4_2,3,ax[0])\n",
    "    \n",
    "    ax[0].set_title(\"Gamme d'incertitude en fonction du nombre d'écart-type\")\n",
    "\n",
    "    tA = tA if show_switch == \"minéral porteur\" else tA*te\n",
    "    scale_factor = 1/100\n",
    "    sigma = tA*EF_perc * scale_factor\n",
    "    range_min,range_max = compute_confidence_range(tA,sigma,confidence)\n",
    "    N = norm(loc=tA,scale=sigma)\n",
    "    x= np.linspace(tA-4*sigma,tA+4*sigma,1000)\n",
    "    pdf = N.pdf(x)\n",
    "    ax[1].set_ylim(0,1.05*N.pdf(tA))\n",
    "    ax[1].plot(x / scale_factor,pdf,label=\"Distribution de probabilité de \"+r\"$t_A$\")\n",
    "    ax[1].axvline(x=tA / scale_factor,color='g',linestyle=\"-\",ymax=0.99,label=\"Estimation\")\n",
    "    ax[1].axvline(x=range_min / scale_factor,color='r',linestyle=\"--\",ymax=0.9,label=\"Interval de confiance à {}\".format(confidence))\n",
    "    ax[1].axvline(x=range_max / scale_factor,color='r',linestyle=\"--\",ymax=0.9)\n",
    "    \n",
    "    handles, labels = ax[1].get_legend_handles_labels()\n",
    "    handles.append(patches.Patch(color='none', label=\"Erreur fondamentale (EF) : {}%\".format(EF_perc)))\n",
    "    handles.append(patches.Patch(color='none', label=\"Variance d'erreur fondamentale : {}={:.3f}\".format(r\"$\\sigma_{EF}2$\",(EF_perc/100)**2 )))\n",
    "    ax[1].legend(handles=handles)\n",
    "\n",
    "    graph_max = max(0.5 if show_switch == \"minéral porteur\" else 0.1,1.5*range_max)/scale_factor\n",
    "    ax[1].set_xlim(0,graph_max)\n",
    "    ax[1].set_xticks(np.arange(0,graph_max,10 if show_switch == \"minéral porteur\" else 1))\n",
    "    ax[1].set_xlabel(\"Teneur en \"+show_switch+\" (en %masse)\")\n",
    "    \n",
    "    ax[1].set_title(\"Gamme d'incertitude en teneur ({})\".format(show_switch))\n",
    "    \n",
    "    fig.set_size_inches((16,4))"
   ]
  },
  {
   "cell_type": "code",
   "execution_count": null,
   "metadata": {},
   "outputs": [],
   "source": []
  }
 ],
 "metadata": {
  "celltoolbar": "Initialization Cell",
  "kernelspec": {
   "display_name": "Python 3",
   "language": "python",
   "name": "python3"
  },
  "language_info": {
   "codemirror_mode": {
    "name": "ipython",
    "version": 3
   },
   "file_extension": ".py",
   "mimetype": "text/x-python",
   "name": "python",
   "nbconvert_exporter": "python",
   "pygments_lexer": "ipython3",
   "version": "3.6.5"
  },
  "latex_envs": {
   "LaTeX_envs_menu_present": true,
   "autoclose": false,
   "autocomplete": true,
   "bibliofile": "biblio.bib",
   "cite_by": "apalike",
   "current_citInitial": 1,
   "eqLabelWithNumbers": true,
   "eqNumInitial": 1,
   "hotkeys": {
    "equation": "Ctrl-E",
    "itemize": "Ctrl-I"
   },
   "labels_anchors": false,
   "latex_user_defs": false,
   "report_style_numbering": false,
   "user_envs_cfg": false
  },
  "toc": {
   "base_numbering": 1,
   "nav_menu": {},
   "number_sections": true,
   "sideBar": true,
   "skip_h1_title": true,
   "title_cell": "Table of Contents",
   "title_sidebar": "Contents",
   "toc_cell": false,
   "toc_position": {},
   "toc_section_display": true,
   "toc_window_display": false
  },
  "varInspector": {
   "cols": {
    "lenName": 16,
    "lenType": 16,
    "lenVar": 40
   },
   "kernels_config": {
    "python": {
     "delete_cmd_postfix": "",
     "delete_cmd_prefix": "del ",
     "library": "var_list.py",
     "varRefreshCmd": "print(var_dic_list())"
    },
    "r": {
     "delete_cmd_postfix": ") ",
     "delete_cmd_prefix": "rm(",
     "library": "var_list.r",
     "varRefreshCmd": "cat(var_dic_list()) "
    }
   },
   "types_to_exclude": [
    "module",
    "function",
    "builtin_function_or_method",
    "instance",
    "_Feature"
   ],
   "window_display": false
  }
 },
 "nbformat": 4,
 "nbformat_minor": 2
}
