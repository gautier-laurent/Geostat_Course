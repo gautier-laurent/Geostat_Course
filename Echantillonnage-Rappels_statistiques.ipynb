{
 "cells": [
  {
   "cell_type": "code",
   "execution_count": 1,
   "metadata": {},
   "outputs": [],
   "source": [
    "import matplotlib.pyplot as plt\n",
    "import matplotlib.patches as patches\n",
    "import numpy as np\n",
    "from ipywidgets import interact, interactive, fixed, interact_manual\n",
    "import ipywidgets as widgets\n",
    "from scipy.stats import norm,lognorm\n",
    "from itertools import permutations\n",
    "from scipy import linalg,optimize"
   ]
  },
  {
   "cell_type": "markdown",
   "metadata": {},
   "source": [
    "# Quelques définitions"
   ]
  },
  {
   "cell_type": "code",
   "execution_count": 2,
   "metadata": {},
   "outputs": [],
   "source": [
    "class combined_distribution:\n",
    "    def __init__(self,dists,weigths):\n",
    "        self.dists = dists\n",
    "        self.weights = weigths / weigths.sum()\n",
    "        self.var_estimate = None\n",
    "    \n",
    "    def pdf(self,x):\n",
    "        pdfs = np.array([dist.pdf(x) for dist in self.dists])\n",
    "        return np.dot(self.weights,pdfs)\n",
    "    \n",
    "    def cdf(self,x):\n",
    "        pdfs = np.array([dist.cdf(x) for dist in self.dists])\n",
    "        return np.dot(self.weights,pdfs)\n",
    "    \n",
    "    def cdf_inv(self,u):\n",
    "        res = np.array([\n",
    "            optimize.minimize_scalar(lambda x: (self.cdf(x)-u_i)**2)\n",
    "            for u_i in np.array([u]).ravel()])\n",
    "        return np.array([res_i.x for res_i in res])\n",
    "    \n",
    "    def sample(self,n):\n",
    "        threshold = np.cumsum(self.weights)\n",
    "        draw = np.random.random(size=n)\n",
    "        cum_sets = [ set(np.where( draw < threshold[i])[0]) for i in range(0,len(threshold))]\n",
    "        sets = [cum_sets[0]]+[ cum_sets[i+1]-cum_sets[i] for i in range(0,len(cum_sets)-1)]\n",
    "        repartition = [len(set_i) for set_i in sets]\n",
    "        samples = [dist_i.ppf(np.random.rand(n_i)) for (dist_i,n_i) in zip(dists,repartition)]\n",
    "        return np.concatenate(samples)\n",
    "    \n",
    "    def mean(self):\n",
    "        means = [dist.mean() for dist in dists]\n",
    "        return np.dot(self.weights,means)\n",
    "    \n",
    "    def median(self):\n",
    "        return self.cdf_inv(0.5)\n",
    "    \n",
    "    def var(self):\n",
    "        if self.var_estimate is None:\n",
    "            samples = self.sample(1000)\n",
    "            self.var_estimate = np.mean(np.square(samples)) - np.square(samples.mean())\n",
    "        return self.var_estimate\n",
    "    \n",
    "    def std(self):\n",
    "        return np.sqrt(self.var())\n",
    "    \n",
    "    def sample_mean_dist(self,n):\n",
    "        std_estimation = self.std() / np.sqrt(n)\n",
    "        return norm(loc= self.mean(),scale= std_estimation)"
   ]
  },
  {
   "cell_type": "markdown",
   "metadata": {},
   "source": [
    "# Exemple de distribution"
   ]
  },
  {
   "cell_type": "code",
   "execution_count": 3,
   "metadata": {},
   "outputs": [
    {
     "name": "stdout",
     "output_type": "stream",
     "text": [
      "Distribution Multi-modale\n",
      "N(-2.0,1.0) x 0.3\n",
      "N(0.0,0.25) x 0.2\n",
      "N(4.0,4.0) x 0.5\n"
     ]
    }
   ],
   "source": [
    "dists = np.array([norm(loc=-2),norm(loc=0,scale=0.5),norm(loc=4,scale=2)])\n",
    "weights = np.array([3,2,5])\n",
    "complex_dist = combined_distribution(dists,weights)\n",
    "print(\"Distribution Multi-modale\")\n",
    "for dist,weight in zip(complex_dist.dists,complex_dist.weights):\n",
    "    print(\"N({},{}) x {}\".format(dist.mean(),dist.var(),weight))"
   ]
  },
  {
   "cell_type": "code",
   "execution_count": 4,
   "metadata": {},
   "outputs": [
    {
     "name": "stdout",
     "output_type": "stream",
     "text": [
      "Moyenne : 1.4\n",
      "Median : [0.62058499]\n",
      "Variance : 9.825630187429752\n",
      "Ecart-type : 3.1345861269758966\n"
     ]
    }
   ],
   "source": [
    "print(\"Moyenne :\",complex_dist.mean())\n",
    "print(\"Median :\",complex_dist.median())\n",
    "print(\"Variance :\",complex_dist.var())\n",
    "print(\"Ecart-type :\",complex_dist.std())"
   ]
  },
  {
   "cell_type": "code",
   "execution_count": 5,
   "metadata": {},
   "outputs": [
    {
     "data": {
      "image/png": "[encoded data removed]",
      "text/plain": [
       "<Figure size 576x360 with 2 Axes>"
      ]
     },
     "metadata": {
      "needs_background": "light"
     },
     "output_type": "display_data"
    }
   ],
   "source": [
    "x = np.linspace(-5,10,151)\n",
    "fig, ax1 = plt.subplots()\n",
    "plt.yticks(np.arange(0,1,step=0.1))\n",
    "\n",
    "ax2 = ax1.twinx()\n",
    "ax1.plot(x, complex_dist.pdf(x), 'b-')\n",
    "#ax2.plot(x, complex_dist.cdf(x), 'r-')\n",
    "\n",
    "ax1.set_xlabel('X data')\n",
    "ax1.set_ylabel('PDF', color='b')\n",
    "#ax2.set_ylabel('CDF', color='r')\n",
    "\n",
    "\n",
    "#ax1.plot([complex_dist.mean()]*2,[0,complex_dist.pdf(complex_dist.mean())],color='k')\n",
    "#ax1.plot([complex_dist.median()]*2,[0,complex_dist.pdf(complex_dist.median())],color='k')\n",
    "#for mode in [dist_i.mean() for dist_i in complex_dist.dists]:\n",
    "#    ax1.plot([mode]*2,[0,complex_dist.pdf(mode)],color='k')\n",
    "#ax2.plot([complex_dist.median(),x.max()],[0.5,0.5],\"k--\")\n",
    "#ax2.plot([complex_dist.median()]*2,[0,0.5],color='k',linestyle=\"--\")\n",
    "#ax2.plot([complex_dist.cdf_inv(0.25),x.max()],[0.25,0.25],\"--\",color=\"gray\")\n",
    "#ax2.plot([complex_dist.cdf_inv(0.25)]*2,[0,0.25],color='gray',linestyle=\"--\")\n",
    "#ax2.plot([complex_dist.cdf_inv(0.75),x.max()],[0.75,0.75],\"--\",color=\"gray\")\n",
    "#ax2.plot([complex_dist.cdf_inv(0.75)]*2,[0,0.75],color='gray',linestyle=\"--\")\n",
    "\n",
    "fig.set_size_inches((8,5))"
   ]
  },
  {
   "cell_type": "code",
   "execution_count": 6,
   "metadata": {},
   "outputs": [
    {
     "name": "stderr",
     "output_type": "stream",
     "text": [
      "C:\\Users\\glaurent\\Documents\\Outils\\Anaconda\\lib\\site-packages\\numpy\\core\\_asarray.py:171: VisibleDeprecationWarning: Creating an ndarray from ragged nested sequences (which is a list-or-tuple of lists-or-tuples-or ndarrays with different lengths or shapes) is deprecated. If you meant to do this, you must specify 'dtype=object' when creating the ndarray.\n",
      "  return array(a, dtype, copy=False, order=order, subok=True)\n"
     ]
    },
    {
     "data": {
      "image/png": "[encoded data removed]",
      "text/plain": [
       "<Figure size 576x360 with 2 Axes>"
      ]
     },
     "metadata": {
      "needs_background": "light"
     },
     "output_type": "display_data"
    }
   ],
   "source": [
    "x = np.linspace(-5,10,151)\n",
    "fig, ax1 = plt.subplots()\n",
    "plt.yticks(np.arange(0,1,step=0.1))\n",
    "\n",
    "ax2 = ax1.twinx()\n",
    "ax1.plot(x, complex_dist.pdf(x), 'b-')\n",
    "ax2.plot(x, complex_dist.cdf(x), 'r-')\n",
    "\n",
    "ax1.set_xlabel('X data')\n",
    "ax1.set_ylabel('PDF', color='b')\n",
    "ax2.set_ylabel('CDF', color='r')\n",
    "\n",
    "\n",
    "ax1.plot([complex_dist.mean()]*2,[0,complex_dist.pdf(complex_dist.mean())],color='k')\n",
    "ax2.plot([complex_dist.median(),x.max()],[0.5,0.5],\"k--\")\n",
    "ax2.plot([complex_dist.median()]*2,[0,0.5],color='k',linestyle=\"--\")\n",
    "ax2.plot([complex_dist.cdf_inv(0.25),x.max()],[0.25,0.25],\"--\",color=\"gray\")\n",
    "ax2.plot([complex_dist.cdf_inv(0.25)]*2,[0,0.25],color='gray',linestyle=\"--\")\n",
    "ax2.plot([complex_dist.cdf_inv(0.75),x.max()],[0.75,0.75],\"--\",color=\"gray\")\n",
    "ax2.plot([complex_dist.cdf_inv(0.75)]*2,[0,0.75],color='gray',linestyle=\"--\")\n",
    "\n",
    "fig.set_size_inches((8,5))"
   ]
  },
  {
   "cell_type": "code",
   "execution_count": 9,
   "metadata": {},
   "outputs": [
    {
     "data": {
      "application/vnd.jupyter.widget-view+json": {
       "model_id": "45cef1cc732042f4932ad91d9c897552",
       "version_major": 2,
       "version_minor": 0
      },
      "text/plain": [
       "interactive(children=(IntSlider(value=10, continuous_update=False, description='n', max=1000, min=1), Output()…"
      ]
     },
     "metadata": {},
     "output_type": "display_data"
    }
   ],
   "source": [
    "@interact(n=widgets.IntSlider(min=1,max=1000,stp=1,value=10,continuous_update=False))\n",
    "def interact_sampling(n):\n",
    "    sample = complex_dist.sample(n)\n",
    "    \n",
    "    fig, ax1 = plt.subplots()\n",
    "    x = np.linspace(-5,10,151)\n",
    "    ax1.set_xlim(-5,10)\n",
    "\n",
    "    plt.yticks(np.arange(0,1,step=0.1))\n",
    "    ax2 = ax1.twinx()\n",
    "    ax1.set_ylim(0,0.2)\n",
    "    ax2.set_ylim(0,1)\n",
    "\n",
    "    ax1.hist(sample,density=True,bins=20,zorder=1)\n",
    "    ax2.hist(sample,cumulative=True,density=True,bins=20,histtype=\"step\",facecolor=None,edgecolor=\"red\",zorder=0)\n",
    "    ax1.plot(x, complex_dist.pdf(x), 'b--')\n",
    "    ax2.plot(x, complex_dist.cdf(x), 'r--')\n",
    "    \n",
    "    ax1.axvline(x=complex_dist.mean(),color='green',linestyle=\"-\",ymax=1.0)\n",
    "    ax1.axvline(x=sample.mean(),color='k',linestyle=\"--\",ymax=0.9)\n",
    "\n",
    "    ax1.set_xlabel('X data')\n",
    "    ax1.set_ylabel('PDF', color='b')\n",
    "    ax2.set_ylabel('CDF', color='r')\n",
    "    fig.set_size_inches((8,5))"
   ]
  },
  {
   "cell_type": "markdown",
   "metadata": {},
   "source": [
    "# Théorème central limite"
   ]
  },
  {
   "cell_type": "code",
   "execution_count": 29,
   "metadata": {},
   "outputs": [
    {
     "data": {
      "application/vnd.jupyter.widget-view+json": {
       "model_id": "ca3de3a1c7484566b74f89f8c54dee36",
       "version_major": 2,
       "version_minor": 0
      },
      "text/plain": [
       "interactive(children=(IntSlider(value=50, continuous_update=False, description='n_sample', max=1000, min=1), I…"
      ]
     },
     "metadata": {},
     "output_type": "display_data"
    }
   ],
   "source": [
    "\n",
    "@interact(n_sample=widgets.IntSlider(value=50,min=1,max=1000,step=1,continuous_update=False),\n",
    "          sample_size=widgets.IntSlider(value=2,min=1,max=30,step=1,continuous_update=False))\n",
    "def demo_central_limit_n(n_sample,sample_size):\n",
    "    estimate = [\n",
    "        complex_dist.sample(sample_size).mean()\n",
    "        for i in range(n_sample)]\n",
    "\n",
    "    x = np.linspace(-5,10,151)\n",
    "    fig, ax1 = plt.subplots()\n",
    "    ax1.hist(estimate,color='g',density=True,zorder=0, label=\"Histogram of means for samples of size {}\".format(sample_size))\n",
    "    ax2= ax1.twinx()\n",
    "    ax2.plot(x, complex_dist.pdf(x), 'b-',zorder=1, label= \"PDF\")\n",
    "\n",
    "    estimation_mean_dist = complex_dist.sample_mean_dist(sample_size)\n",
    "    plt.axvline(x=complex_dist.mean(),color='k',linestyle=\"--\",ymax=0.9,zorder=3, label=\"Distribution mean\")\n",
    "    ax1.plot(x,estimation_mean_dist.pdf(x),color='r',zorder=2, label=\" Theoretical distribution of means\")\n",
    "    ymin,ymax = plt.ylim()\n",
    "    ax1.set_ylim(0,max(ymax,1.05 * estimation_mean_dist.pdf(complex_dist.mean())))\n",
    "\n",
    "    fig.legend( loc =  \"center right\", bbox_to_anchor= (1.65,0.5))"
   ]
  },
  {
   "cell_type": "markdown",
   "metadata": {},
   "source": [
    "# Variance vs. Variance relative"
   ]
  },
  {
   "cell_type": "code",
   "execution_count": 30,
   "metadata": {},
   "outputs": [
    {
     "data": {
      "text/plain": [
       "<matplotlib.legend.Legend at 0x15cd3d6abb0>"
      ]
     },
     "execution_count": 30,
     "metadata": {},
     "output_type": "execute_result"
    },
    {
     "data": {
      "image/png": "[encoded data removed]",
      "text/plain": [
       "<Figure size 432x288 with 1 Axes>"
      ]
     },
     "metadata": {
      "needs_background": "light"
     },
     "output_type": "display_data"
    }
   ],
   "source": [
    "\n",
    "\n",
    "p = np.linspace(0,1,100)\n",
    "plt.plot(p,p,label=\"p\")\n",
    "plt.plot(p,1-p,label=\"1-p\")\n",
    "plt.plot(p,np.multiply(p,1-p),label=\"p(1-p)\")\n",
    "plt.legend()"
   ]
  },
  {
   "cell_type": "code",
   "execution_count": 156,
   "metadata": {},
   "outputs": [
    {
     "data": {
      "text/plain": [
       "<matplotlib.legend.Legend at 0x17d0b9598d0>"
      ]
     },
     "execution_count": 156,
     "metadata": {},
     "output_type": "execute_result"
    },
    {
     "data": {
      "image/png": "[encoded data removed]",
      "text/plain": [
       "<Figure size 432x288 with 1 Axes>"
      ]
     },
     "metadata": {},
     "output_type": "display_data"
    }
   ],
   "source": [
    "\n",
    "p = np.linspace(0.1,0.99,100)\n",
    "plt.plot(p,np.multiply(1/p,1-p),label=\"p(1-p)\")\n",
    "plt.legend()\n",
    "\n"
   ]
  },
  {
   "cell_type": "code",
   "execution_count": null,
   "metadata": {},
   "outputs": [],
   "source": []
  }
 ],
 "metadata": {
  "celltoolbar": "Aucun(e)",
  "hide_input": false,
  "kernelspec": {
   "display_name": "Python 3 (ipykernel)",
   "language": "python",
   "name": "python3"
  },
  "language_info": {
   "codemirror_mode": {
    "name": "ipython",
    "version": 3
   },
   "file_extension": ".py",
   "mimetype": "text/x-python",
   "name": "python",
   "nbconvert_exporter": "python",
   "pygments_lexer": "ipython3",
   "version": "3.9.7"
  },
  "latex_envs": {
   "LaTeX_envs_menu_present": true,
   "autoclose": false,
   "autocomplete": true,
   "bibliofile": "biblio.bib",
   "cite_by": "apalike",
   "current_citInitial": 1,
   "eqLabelWithNumbers": true,
   "eqNumInitial": 1,
   "hotkeys": {
    "equation": "Ctrl-E",
    "itemize": "Ctrl-I"
   },
   "labels_anchors": false,
   "latex_user_defs": false,
   "report_style_numbering": false,
   "user_envs_cfg": false
  },
  "toc": {
   "base_numbering": 1,
   "nav_menu": {},
   "number_sections": true,
   "sideBar": true,
   "skip_h1_title": true,
   "title_cell": "Table of Contents",
   "title_sidebar": "Contents",
   "toc_cell": false,
   "toc_position": {},
   "toc_section_display": true,
   "toc_window_display": false
  },
  "varInspector": {
   "cols": {
    "lenName": 16,
    "lenType": 16,
    "lenVar": 40
   },
   "kernels_config": {
    "python": {
     "delete_cmd_postfix": "",
     "delete_cmd_prefix": "del ",
     "library": "var_list.py",
     "varRefreshCmd": "print(var_dic_list())"
    },
    "r": {
     "delete_cmd_postfix": ") ",
     "delete_cmd_prefix": "rm(",
     "library": "var_list.r",
     "varRefreshCmd": "cat(var_dic_list()) "
    }
   },
   "types_to_exclude": [
    "module",
    "function",
    "builtin_function_or_method",
    "instance",
    "_Feature"
   ],
   "window_display": false
  }
 },
 "nbformat": 4,
 "nbformat_minor": 2
}
