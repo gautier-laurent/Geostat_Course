{
 "cells": [
  {
   "cell_type": "code",
   "execution_count": 4,
   "metadata": {},
   "outputs": [],
   "source": [
    "import matplotlib.pyplot as plt\n",
    "import matplotlib.cm as cm\n",
    "import matplotlib as mpl\n",
    "from matplotlib.collections import LineCollection\n",
    "import numpy as np\n",
    "import pandas as pd\n",
    "from scipy import spatial\n",
    "\n",
    "\n",
    "from ipywidgets import interact, interactive, fixed, interact_manual\n",
    "import ipywidgets as widgets"
   ]
  },
  {
   "cell_type": "markdown",
   "metadata": {},
   "source": [
    "# Generate random data"
   ]
  },
  {
   "cell_type": "code",
   "execution_count": 5,
   "metadata": {},
   "outputs": [
    {
     "data": {
      "text/html": [
       "<div>\n",
       "<style scoped>\n",
       "    .dataframe tbody tr th:only-of-type {\n",
       "        vertical-align: middle;\n",
       "    }\n",
       "\n",
       "    .dataframe tbody tr th {\n",
       "        vertical-align: top;\n",
       "    }\n",
       "\n",
       "    .dataframe thead th {\n",
       "        text-align: right;\n",
       "    }\n",
       "</style>\n",
       "<table border=\"1\" class=\"dataframe\">\n",
       "  <thead>\n",
       "    <tr style=\"text-align: right;\">\n",
       "      <th></th>\n",
       "      <th>X</th>\n",
       "      <th>Y</th>\n",
       "      <th>Z</th>\n",
       "    </tr>\n",
       "  </thead>\n",
       "  <tbody>\n",
       "    <tr>\n",
       "      <th>0</th>\n",
       "      <td>74.908024</td>\n",
       "      <td>142.607146</td>\n",
       "      <td>1.021071</td>\n",
       "    </tr>\n",
       "    <tr>\n",
       "      <th>1</th>\n",
       "      <td>146.398788</td>\n",
       "      <td>89.798773</td>\n",
       "      <td>1.340513</td>\n",
       "    </tr>\n",
       "    <tr>\n",
       "      <th>2</th>\n",
       "      <td>31.203728</td>\n",
       "      <td>23.399178</td>\n",
       "      <td>2.290671</td>\n",
       "    </tr>\n",
       "    <tr>\n",
       "      <th>3</th>\n",
       "      <td>11.616722</td>\n",
       "      <td>129.926422</td>\n",
       "      <td>1.937585</td>\n",
       "    </tr>\n",
       "    <tr>\n",
       "      <th>4</th>\n",
       "      <td>120.223002</td>\n",
       "      <td>106.210887</td>\n",
       "      <td>2.101776</td>\n",
       "    </tr>\n",
       "  </tbody>\n",
       "</table>\n",
       "</div>"
      ],
      "text/plain": [
       "            X           Y         Z\n",
       "0   74.908024  142.607146  1.021071\n",
       "1  146.398788   89.798773  1.340513\n",
       "2   31.203728   23.399178  2.290671\n",
       "3   11.616722  129.926422  1.937585\n",
       "4  120.223002  106.210887  2.101776"
      ]
     },
     "execution_count": 5,
     "metadata": {},
     "output_type": "execute_result"
    }
   ],
   "source": [
    "n_data = 42\n",
    "xmin,xmax=(0,200)\n",
    "x_range= xmax - xmin\n",
    "ymin,ymax=(0,150)\n",
    "y_range= ymax - ymin\n",
    "\n",
    "np.random.seed(42)\n",
    "coord_array = [xmin,ymin] \\\n",
    "                + np.array([x_range,y_range]).reshape(1,2)\\\n",
    "                 *np.random.random((n_data,2))\n",
    "val_array = 2+ np.cos(coord_array[:,0]*np.pi/50) \\\n",
    "          + np.sin(coord_array[:,1]*np.pi/100)\n",
    "data_array = np.concatenate((coord_array,val_array.reshape((-1,1))),axis=1)\n",
    "data_col = [\"X\",\"Y\",\"Z\"]\n",
    "data = pd.DataFrame(data=data_array, columns= data_col)\n",
    "data.head()"
   ]
  },
  {
   "cell_type": "code",
   "execution_count": 6,
   "metadata": {},
   "outputs": [],
   "source": [
    "class DataSet:\n",
    "    def __init__(self,coord_array=None,val_array=None,box_array=None,coord_padding_perc=0.1):\n",
    "        \n",
    "        self.data = pd.DataFrame()\n",
    "        self.coord_labels = None\n",
    "        self.val_label = None\n",
    "        self.update_val_range()\n",
    "        self.coord_padding_perc = coord_padding_perc\n",
    "        \n",
    "        if coord_array is not None:\n",
    "            self.set_coordinates(coord_array)\n",
    "        if val_array is not None:\n",
    "            self.set_values(val_array)\n",
    "        self.set_bounding_box(box_array)\n",
    "        \n",
    "    def dimension(self):\n",
    "        return len(self.coord_labels)\n",
    "        \n",
    "    def set_coordinates(self,coord_array):\n",
    "        if not self.data.empty:\n",
    "            self.data.drop(self.coord_labels,axis=1)\n",
    "        self.coord_dim = np.array(coord_array).shape[1]\n",
    "        self.coord_labels = [\"X\",\"Y\",\"Z\"][0:self.coord_dim]\n",
    "        for col,label in enumerate(self.coord_labels):\n",
    "            self.data[label] = coord_array[:,col]\n",
    "        self.kd_tree = spatial.KDTree(self.coord())\n",
    "    \n",
    "    def set_random_coordinates(self,n_data,box_array,seed=None):\n",
    "        if seed is not None:\n",
    "            np.random.seed(seed)\n",
    "            \n",
    "        self.set_bounding_box(box_array)\n",
    "        box_min = [self.box[coord_name+\"_min\"] for coord_name in self.coord_labels]\n",
    "        box_range = [self.box[coord_name+\"_range\"] for coord_name in self.coord_labels]\n",
    "        coord_array = box_min \\\n",
    "                + np.array(box_range).reshape(1,self.coord_dim)\\\n",
    "                 *np.random.random((n_data,self.coord_dim))\n",
    "        self.set_coordinates(coord_array)\n",
    "        \n",
    "    def set_values(self,val_array,update_range=True):\n",
    "        if self.coord_labels is None:\n",
    "            print(\"Please load coordinates first\")\n",
    "            return\n",
    "        self.val_label = \"Z\" if self.coord_dim<3 else \"Val\"\n",
    "        if self.val_label in self.data.columns:\n",
    "            self.data.drop(self.val_label)\n",
    "        if \"Val\" in self.data.columns:\n",
    "            self.data.drop(\"Val\")\n",
    "        val_array= np.array(val_array)\n",
    "        self.val_dim = 1 if len(val_array.shape) is 1 else val_array.shape[1]\n",
    "        self.data[self.val_label] = val_array\n",
    "        \n",
    "        if update_range:\n",
    "            self.update_val_range()\n",
    "        \n",
    "    def compute_values(self,function,only_empty_values=False,update_range=True):\n",
    "        if only_empty_values:\n",
    "            self.data[self.val_label].fillna(\n",
    "                self.data[self.data[self.val_label].null()].apply(function,axis=1,raw=True)\n",
    "                ,inplace=True)\n",
    "            if update_range:\n",
    "                self.update_val_range()\n",
    "        else:\n",
    "            val_array = self.data.apply(function,axis=1,raw=True)\n",
    "            self.set_values(val_array,update_range=update_range)\n",
    "    \n",
    "    def update_val_range(self):\n",
    "        if self.val_label in self.data.columns:\n",
    "            self.val_min = self.data[self.val_label].min()\n",
    "            self.val_max = self.data[self.val_label].max()\n",
    "        else:\n",
    "            self.val_min = -1\n",
    "            self.val_max = 1\n",
    "    \n",
    "    def set_bounding_box(self,box_array,coord_padding_perc=0):\n",
    "        if box_array is None:\n",
    "            self.box_needs_init_ = True\n",
    "            self.box = None\n",
    "        else:\n",
    "            if self.coord_labels is None:\n",
    "                self.coord_dim =len(box_array)\n",
    "                self.coord_labels = [\"X\",\"Y\",\"Z\"][0:self.coord_dim]\n",
    "            else:\n",
    "                assert (len(self.coord_labels)==len(box_array)), \"Bounding box dim must match coord array dim\"\n",
    "            self.box_needs_init_ = False\n",
    "            self.box = {}\n",
    "            for coord_name,min_,max_ in [(self.coord_labels[i],*box_array[i]) for i in range(self.coord_dim)]:\n",
    "                range_ = max_ - min_\n",
    "                self.box[coord_name+\"_min\"] = min_\n",
    "                self.box[coord_name+\"_max\"] = max_\n",
    "                self.box[coord_name+\"_range\"] = self.box[coord_name+\"_max\"] - self.box[coord_name+\"_min\"]\n",
    "    \n",
    "    def update_bounding_box(self):\n",
    "        \"\"\"Recompute the bounding box range based on the dataset.\"\"\"\n",
    "        assert(self.data is not None), \"Data must be initialised first\"\n",
    "        self.box = {}\n",
    "        for i,coord_name in enumerate(self.coord_labels):\n",
    "            min_ = data[coord_name].min() \n",
    "            max_ = data[coord_name].max()\n",
    "            range_ = max_ - min_\n",
    "            self.box[coord_name+\"_min\"] = min_ - self.coord_padding_perc * range_\n",
    "            self.box[coord_name+\"_max\"] = max_ + self.coord_padding_perc * range_\n",
    "            self.box[coord_name+\"_range\"] = self.box[coord_name+\"_max\"] - self.box[coord_name+\"_min\"]\n",
    "        self.box_needs_init_ = False\n",
    "        \n",
    "    def max_dist(self):\n",
    "        return np.sqrt(np.sum(np.square([self.box[coord+\"_range\"] for coord in self.coord_labels])))\n",
    "    \n",
    "    def smallest_box_width(self):\n",
    "        return min([self.box[coord_name+\"_range\"] for coord_name in self.coord_labels])\n",
    "    \n",
    "    def coord(self):\n",
    "        return self.data[self.coord_labels]\n",
    "    def val(self):\n",
    "        return self.data[self.val_label]\n",
    "        \n",
    "    def show(self,ax=None,coord_padding_perc=None,highlight_index=None):\n",
    "        if coord_padding_perc is not None:\n",
    "            self.coord_padding_perc\n",
    "            self.update_bounding_box()\n",
    "        if self.box_needs_init_:\n",
    "            self.update_bounding_box()\n",
    "        \n",
    "        axis = plt.gca() if ax is None else ax\n",
    "        \n",
    "        data_axis = None\n",
    "        if self.coord_dim == 1:\n",
    "            values = 0 if self.val_label is None else self.data[self.val_label]\n",
    "            data_axis = axis.scatter(self.data[self.coord_labels[0]],values)\n",
    "            if highlight_index is not None:\n",
    "                axis.scatter(self.data.loc[highlight_index,self.coord_labels[0]],values[highlight_index],\n",
    "                             edgecolor=\"orange\",linewidth=1.8,facecolor=\"none\",zorder=10)\n",
    "            x_padding = self.coord_padding_perc * self.box[\"X_range\"]\n",
    "            axis.set_xlim(self.box[\"X_min\"]-x_padding,self.box[\"X_max\"]+x_padding)\n",
    "            axis.set_ylim(self.val_min,self.val_max)\n",
    "        else:\n",
    "            values = None if self.val_label is None else self.data[self.val_label]\n",
    "            data_axis = axis.scatter(self.data[\"X\"],self.data[\"Y\"],c=values,\n",
    "                    cmap=\"viridis\",\n",
    "                    vmin= self.val_min,\n",
    "                    vmax= self.val_max,\n",
    "                    edgecolor=\"k\",\n",
    "                    zorder=1)\n",
    "            \n",
    "            if highlight_index is not None:\n",
    "                axis.scatter(self.data.loc[highlight_index,\"X\"],self.data.loc[highlight_index,\"Y\"],\n",
    "                             edgecolor=\"orange\",s=(1.25*mpl.rcParams['lines.markersize'])**2,linewidth=2,facecolor=\"none\",zorder=10)\n",
    "            axis.axis('equal')\n",
    "            x_padding = self.coord_padding_perc * self.box[\"X_range\"]\n",
    "            axis.set_xlim(self.box[\"X_min\"]-x_padding,self.box[\"X_max\"]+x_padding)\n",
    "            y_padding = self.coord_padding_perc * self.box[\"Y_range\"]\n",
    "            axis.set_ylim(self.box[\"Y_min\"]-y_padding,self.box[\"Y_max\"]+y_padding)\n",
    "            if self.val_label is not None : plt.gcf().colorbar(data_axis)\n",
    "        \n",
    "    def distance_matrix(self):\n",
    "        return spatial.distance_matrix(self.coord(),self.coord())\n",
    "    \n",
    "    def closest_dist(self):\n",
    "        distance_matrix = self.distance_matrix()\n",
    "        positive_distance_matrix = distance_matrix[np.where(distance_matrix>0)].reshape((len(self.data),len(self.data)-1))\n",
    "        return np.amin(positive_distance_matrix,axis=0)\n",
    "                         \n",
    "    def pairs(self,max_dist=None,min_dist=None, as_array=True):\n",
    "        if (min_dist is None) and (max_dist is None):\n",
    "            pair_array = np.array([[[i,j] for i in range(len(self.data))]for j in range(len(self.data))]).reshape((-1,2))\n",
    "            return pair_array if as_array else set(pair_array)\n",
    "        else:\n",
    "            pairs_below_min_dist = self.kd_tree.query_pairs(min_dist) if min_dist is not None else set()\n",
    "            pairs_below_max_dist = self.kd_tree.query_pairs(max_dist)\n",
    "            pair_diff = pairs_below_max_dist - pairs_below_min_dist\n",
    "            return pair_diff if as_array is False else np.array([[i,j] for i,j in pair_diff])\n",
    "    \n",
    "    \n",
    "    def pair_positions(self,pair_indexes):\n",
    "        return self.data.loc[pair_indexes.ravel() if isinstance(pair_indexes,np.ndarray) else pair_indexes,\n",
    "                             [\"X\",\"Y\"]].values.reshape((-1,2,2))\n",
    "    \n",
    "    def pair_dist(self,pair_indexes):\n",
    "        positions = self.pair_positions(pair_indexes)\n",
    "        return positions\n",
    "    \n",
    "    def show_pairs(self,max_dist=None,min_dist=None,pairs=None,ax=None,marker_edgecolors=None,highlight_index=None):\n",
    "        axis = plt.gca() if ax is None else ax\n",
    "        \n",
    "        pairs = self.pairs(min_dist=min_dist,max_dist= self.max_dist() if max_dist is None else max_dist)\\\n",
    "                    if pairs is None else pairs\n",
    "        if self.coord_dim == 1:\n",
    "            values = 0 if self.val_label is None else self.data[self.val_label]\n",
    "            axis.scatter(self.data.loc[pairs[:,0],[\"X\"]],values[pairs[:,0]],facecolor=\"none\",edgecolors=marker_edgecolors,zorder=2)\n",
    "            axis.scatter(self.data.loc[pairs[:,1],[\"X\"]],values[pairs[:,1]],facecolor=\"none\",edgecolors=marker_edgecolors,zorder=2)\n",
    "            \n",
    "            segs = self.data.loc[pairs.ravel(),[\"X\",self.val_label]].values.reshape((-1,2,2))\n",
    "            line_collection = LineCollection(segs,colors=\"red\",zorder=0)\n",
    "            axis.add_collection(line_collection)\n",
    "            \n",
    "            if highlight_index is not None:\n",
    "                axis.scatter(self.data.loc[pairs[highlight_index,0],[\"X\"]],values[pairs[highlight_index,0]],\n",
    "                             facecolor=\"none\",edgecolors=\"cyan\",linewidth=1.8,zorder=5)\n",
    "                axis.scatter(self.data.loc[pairs[highlight_index,1],[\"X\"]],values[pairs[highlight_index,1]],\n",
    "                             facecolor=\"none\",edgecolors=\"cyan\",linewidth=1.8,zorder=5)\n",
    "                axis.plot(self.data.loc[pairs[highlight_index],\"X\"],\n",
    "                          values[pairs[highlight_index]], \"-\",color=\"cyan\",zorder=5)\n",
    "            x_padding = self.coord_padding_perc * self.box[\"X_range\"]\n",
    "            axis.set_xlim(self.box[\"X_min\"]-x_padding,self.box[\"X_max\"]+x_padding)\n",
    "            axis.set_ylim(self.val_min,self.val_max)\n",
    "        else:\n",
    "            axis.scatter(self.data.loc[pairs[:,0],[\"X\"]],self.data.loc[pairs[:,0],[\"Y\"]],facecolor=\"none\",edgecolors=\"red\",zorder=2)\n",
    "            axis.scatter(self.data.loc[pairs[:,1],[\"X\"]],self.data.loc[pairs[:,1],[\"Y\"]],facecolor=\"none\",edgecolors=\"red\",zorder=2)\n",
    "            \n",
    "            segs = self.pair_positions(pairs)\n",
    "            line_collection = LineCollection(segs,colors=\"red\",zorder=0)\n",
    "            axis.add_collection(line_collection)\n",
    "            \n",
    "            if highlight_index is not None:\n",
    "                axis.scatter(self.data.loc[pairs[highlight_index,0],[\"X\"]],self.data.loc[pairs[highlight_index,0],[\"Y\"]],\n",
    "                             facecolor=\"none\",edgecolors=\"dodgerblue\",s=(1.25*mpl.rcParams['lines.markersize'])**2,linewidth=2,zorder=5)\n",
    "                axis.scatter(self.data.loc[pairs[highlight_index,1],[\"X\"]],self.data.loc[pairs[highlight_index,1],[\"Y\"]],\n",
    "                             facecolor=\"none\",edgecolors=\"dodgerblue\",s=(1.25*mpl.rcParams['lines.markersize'])**2,linewidth=2,zorder=5)\n",
    "                axis.plot(self.data.loc[pairs[highlight_index],\"X\"],\n",
    "                          self.data.loc[pairs[highlight_index],\"Y\"], \"-\",color=\"dodgerblue\",zorder=0)\n",
    "            axis.axis('equal')\n",
    "            x_padding = self.coord_padding_perc * self.box[\"X_range\"]\n",
    "            axis.set_xlim(self.box[\"X_min\"]-x_padding,self.box[\"X_max\"]+x_padding)\n",
    "            y_padding = self.coord_padding_perc * self.box[\"Y_range\"]\n",
    "            axis.set_ylim(self.box[\"Y_min\"]-y_padding,self.box[\"Y_max\"]+y_padding)"
   ]
  },
  {
   "cell_type": "code",
   "execution_count": 7,
   "metadata": {},
   "outputs": [
    {
     "data": {
      "image/png": "[encoded data removed]",
      "text/plain": [
       "<Figure size 432x288 with 2 Axes>"
      ]
     },
     "metadata": {},
     "output_type": "display_data"
    }
   ],
   "source": [
    "dataset = DataSet()\n",
    "dataset.set_random_coordinates(n_data=42,box_array=[[0,200],[0,150]],seed=42)\n",
    "dataset.compute_values(function= lambda coord: 2+ np.cos(coord[0]*np.pi/50) + np.sin(coord[1]*np.pi/100))\n",
    "dataset.show(highlight_index=0)"
   ]
  },
  {
   "cell_type": "code",
   "execution_count": 8,
   "metadata": {},
   "outputs": [
    {
     "data": {
      "text/plain": [
       "2"
      ]
     },
     "execution_count": 8,
     "metadata": {},
     "output_type": "execute_result"
    }
   ],
   "source": [
    "dataset.dimension()"
   ]
  },
  {
   "cell_type": "code",
   "execution_count": 9,
   "metadata": {},
   "outputs": [
    {
     "data": {
      "text/html": [
       "<div>\n",
       "<style scoped>\n",
       "    .dataframe tbody tr th:only-of-type {\n",
       "        vertical-align: middle;\n",
       "    }\n",
       "\n",
       "    .dataframe tbody tr th {\n",
       "        vertical-align: top;\n",
       "    }\n",
       "\n",
       "    .dataframe thead th {\n",
       "        text-align: right;\n",
       "    }\n",
       "</style>\n",
       "<table border=\"1\" class=\"dataframe\">\n",
       "  <thead>\n",
       "    <tr style=\"text-align: right;\">\n",
       "      <th></th>\n",
       "      <th>X</th>\n",
       "      <th>Y</th>\n",
       "      <th>Z</th>\n",
       "    </tr>\n",
       "  </thead>\n",
       "  <tbody>\n",
       "    <tr>\n",
       "      <th>count</th>\n",
       "      <td>42.000000</td>\n",
       "      <td>42.000000</td>\n",
       "      <td>42.000000</td>\n",
       "    </tr>\n",
       "    <tr>\n",
       "      <th>mean</th>\n",
       "      <td>85.278758</td>\n",
       "      <td>75.869749</td>\n",
       "      <td>2.136137</td>\n",
       "    </tr>\n",
       "    <tr>\n",
       "      <th>std</th>\n",
       "      <td>59.634662</td>\n",
       "      <td>46.661198</td>\n",
       "      <td>0.695931</td>\n",
       "    </tr>\n",
       "    <tr>\n",
       "      <th>min</th>\n",
       "      <td>1.104423</td>\n",
       "      <td>6.967562</td>\n",
       "      <td>0.853832</td>\n",
       "    </tr>\n",
       "    <tr>\n",
       "      <th>25%</th>\n",
       "      <td>32.494044</td>\n",
       "      <td>29.499910</td>\n",
       "      <td>1.726905</td>\n",
       "    </tr>\n",
       "    <tr>\n",
       "      <th>50%</th>\n",
       "      <td>73.300585</td>\n",
       "      <td>77.572684</td>\n",
       "      <td>2.077893</td>\n",
       "    </tr>\n",
       "    <tr>\n",
       "      <th>75%</th>\n",
       "      <td>133.227599</td>\n",
       "      <td>119.691259</td>\n",
       "      <td>2.417125</td>\n",
       "    </tr>\n",
       "    <tr>\n",
       "      <th>max</th>\n",
       "      <td>193.916926</td>\n",
       "      <td>148.033040</td>\n",
       "      <td>3.842083</td>\n",
       "    </tr>\n",
       "  </tbody>\n",
       "</table>\n",
       "</div>"
      ],
      "text/plain": [
       "                X           Y          Z\n",
       "count   42.000000   42.000000  42.000000\n",
       "mean    85.278758   75.869749   2.136137\n",
       "std     59.634662   46.661198   0.695931\n",
       "min      1.104423    6.967562   0.853832\n",
       "25%     32.494044   29.499910   1.726905\n",
       "50%     73.300585   77.572684   2.077893\n",
       "75%    133.227599  119.691259   2.417125\n",
       "max    193.916926  148.033040   3.842083"
      ]
     },
     "execution_count": 9,
     "metadata": {},
     "output_type": "execute_result"
    }
   ],
   "source": [
    "dataset.data.describe()"
   ]
  },
  {
   "cell_type": "markdown",
   "metadata": {},
   "source": [
    "# Spatial manipulations"
   ]
  },
  {
   "cell_type": "code",
   "execution_count": 10,
   "metadata": {},
   "outputs": [
    {
     "data": {
      "text/plain": [
       "array([[  0.        ,  88.87999615, 126.96694481, ..., 125.26804713,\n",
       "        109.36084619, 133.35933912],\n",
       "       [ 88.87999615,   0.        , 132.96167896, ..., 104.04498877,\n",
       "         26.48108556, 113.47947318],\n",
       "       [126.96694481, 132.96167896,   0.        , ...,  40.93432695,\n",
       "        157.83580271,  37.62395498],\n",
       "       ...,\n",
       "       [125.26804713, 104.04498877,  40.93432695, ...,   0.        ,\n",
       "        126.41109143,   9.59001373],\n",
       "       [109.36084619,  26.48108556, 157.83580271, ..., 126.41109143,\n",
       "          0.        , 135.56971434],\n",
       "       [133.35933912, 113.47947318,  37.62395498, ...,   9.59001373,\n",
       "        135.56971434,   0.        ]])"
      ]
     },
     "execution_count": 10,
     "metadata": {},
     "output_type": "execute_result"
    }
   ],
   "source": [
    "dataset.distance_matrix()"
   ]
  },
  {
   "cell_type": "code",
   "execution_count": 11,
   "metadata": {},
   "outputs": [
    {
     "data": {
      "text/plain": [
       "9.590013725114137"
      ]
     },
     "execution_count": 11,
     "metadata": {},
     "output_type": "execute_result"
    }
   ],
   "source": [
    "np.median(dataset.closest_dist())"
   ]
  },
  {
   "cell_type": "code",
   "execution_count": 12,
   "metadata": {},
   "outputs": [
    {
     "data": {
      "image/png": "[encoded data removed]",
      "text/plain": [
       "<Figure size 432x288 with 2 Axes>"
      ]
     },
     "metadata": {},
     "output_type": "display_data"
    }
   ],
   "source": [
    "dataset.show()\n",
    "dataset.show_pairs(min_dist=0,max_dist=10,highlight_index=0)"
   ]
  },
  {
   "cell_type": "markdown",
   "metadata": {},
   "source": [
    "# Variogram"
   ]
  },
  {
   "cell_type": "code",
   "execution_count": 13,
   "metadata": {},
   "outputs": [],
   "source": [
    "class Variogram:\n",
    "    \n",
    "    def __init__(self,dataset):\n",
    "        self.dataset = dataset\n",
    "        self.dim = self.dataset.dimension()\n",
    "        self.max_dist = self.dataset.max_dist()\n",
    "        self.classes = None\n",
    "        self.vario = None\n",
    "        self.vario_cloud = None\n",
    "        self.set_direction()\n",
    "    \n",
    "    def set_direction(self,azimuth=None, dip=0,roll=0):\n",
    "        if azimuth is None:\n",
    "            self.type = \"isotropic\"\n",
    "            self.azimuth = None\n",
    "            self.dip = None\n",
    "            self.roll = None\n",
    "            self.dir_vectors = None\n",
    "            self.dir_rotation = spatial.transform.Rotation()\n",
    "        elif self.dim<2:\n",
    "            print(\"Warning: 1D variogram can't be anisotropic.\\n Making it isotropic instead.\")\n",
    "            self.set_direction()\n",
    "        else:\n",
    "            self.dir_vectors = np.identity(self.dataset.dimension())\n",
    "            self.azimuth = azimuth\n",
    "            rotation_angle = [azimuth,dip,roll]\n",
    "            if self.dim>2:\n",
    "                self.dip = dip\n",
    "                self.roll = roll\n",
    "                rotation_dir= \"z\"\n",
    "            self.dir_rotation = spatial.transform.Rotation.from_euler(\"zyx\",np.diag(rotation_angle))\n",
    "        \n",
    "    def select_pairs(self,min_dist=0,max_dist=None):\n",
    "        self.pairs = self.dataset.pairs(min_dist=min_dist,max_dist= self.max_dist if max_dist is None else max_dist)\n",
    "    \n",
    "    def compute_step(self):\n",
    "        self.poz = self.dataset.pair_positions(self.pairs)\n",
    "        self.vec = self.poz[:,1] - self.poz[:,0]\n",
    "        self.h_cloud = np.linalg.norm(self.vec,axis=1)\n",
    "    \n",
    "    def compute_vario_cloud(self,min_dist=0,max_dist=None):\n",
    "        self.select_pairs(min_dist,max_dist)\n",
    "        self.compute_step()\n",
    "        \n",
    "        self.val0 = self.dataset.data.loc[self.pairs[:,0],self.dataset.val_label].values\n",
    "        self.val1 = self.dataset.data.loc[self.pairs[:,1],self.dataset.val_label].values\n",
    "        self.delta = self.val1 - self.val0\n",
    "        self.vario_cloud = self.delta**2\n",
    "    \n",
    "    def setup_lags(self,lag_unit_distance=None,nb_lags=None,max_lag_distance=None):\n",
    "        if (lag_unit_distance is None) and (nb_lags is None) and (max_lag_distance is None):\n",
    "            self.lag_unit_distance = self.guess_lag_unit_distance()\n",
    "            self.nb_lags = self.guess_nb_lags()\n",
    "            self.max_lag_distance = self.lag_unit_distance * self.nb_lags\n",
    "        elif lag_unit_distance is not None:\n",
    "            self.lag_unit_distance = lag_unit_distance\n",
    "            if (nb_lags is None) and (max_lag_distance is None):\n",
    "                self.nb_lags = self.guess_nb_lags()\n",
    "                self.max_lag_distance = self.lag_unit_distance * self.nb_lags\n",
    "            elif max_lag_distance is None:\n",
    "                self.nb_lags = nb_lags\n",
    "                self.max_lag_distance = self.lag_unit_distance * self.nb_lags\n",
    "            else:\n",
    "                self.max_lag_distance = max_lag_distance\n",
    "                self.nb_lags = int(np.ceil(self.max_lag_distance / self.lag_unit_distance))\n",
    "        elif max_lag_distance is not None:\n",
    "            self.max_lag_distance = max_lag_distance\n",
    "            if lag_unit_distance is None:\n",
    "                if nb_lags is None:\n",
    "                    self.lag_unit_distance = self.guess_lag_unit_distance() if lag_unit_distance is None else lag_unit_distance\n",
    "                    self.nb_lags = int(np.ceil(self.max_lag_distance / self.lag_unit_distance))            \n",
    "                else:\n",
    "                    self.nb_lags= nb_lags\n",
    "                    self.lag_unit_distance = self.max_lag_distance / self.nb_lags\n",
    "            else:\n",
    "                self.lag_unit_distance = lag_unit_distance\n",
    "                self.nb_lags = int(np.ceil(self.max_lag_distance / self.lag_unit_distance))\n",
    "                            \n",
    "        classes = np.linspace(0,self.max_lag_distance,int(self.nb_lags)+1,endpoint=True)\n",
    "        self.setup_distance_classes(classes)\n",
    "        \n",
    "    def guess_lag_unit_distance(self,method=\"median\"):\n",
    "        closest_dist = self.dataset.closest_dist()\n",
    "        if method is \"min\":\n",
    "            return min(closest_dist)\n",
    "        elif method is \"mean\":\n",
    "            return np.mean(closest_dist)\n",
    "        elif method is \"median\":\n",
    "            return np.median(closest_dist)\n",
    "    \n",
    "    def guess_nb_lags(self):\n",
    "        return self.dataset.smallest_box_width()/2/self.lag_unit_distance\n",
    "        \n",
    "    def setup_distance_classes(self,classes):\n",
    "        self.classes = np.sort(classes)\n",
    "        self.compute_vario_cloud(max_dist=self.classes[-1])\n",
    "        \n",
    "        self.h_slices = np.ravel([\n",
    "            np.all(np.concatenate(([self.h_cloud >h_min],[self.h_cloud<h_max]),axis=0),axis=0)\n",
    "              for h_min,h_max in zip(self.classes[0:-1],self.classes[1:])\n",
    "        ]).reshape((-1,len(self.h_cloud)))\n",
    "        \n",
    "    def compute_variogram(self,method_h=np.mean,method_vario=np.mean):\n",
    "        if self.classes is None:\n",
    "            self.setup_lags()\n",
    "        self.vario_h = [method_h(self.h_cloud[slice_i]) for slice_i in self.h_slices if slice_i.size >0]\n",
    "        self.vario = [method_vario(self.vario_cloud[slice_i]) for slice_i in self.h_slices if slice_i.size >0]  \n",
    "        \n",
    "    def get_pairs_class(self,class_index):\n",
    "        return self.pairs[self.h_slices[class_index]]\n",
    "    \n",
    "    def show(self,show_vario=True,show_cloud=False,show_classes=False,ax=None,ymax=None,\n",
    "            selected_lag=None,selected_pair=None):\n",
    "        axis = plt.gca() if ax is None else ax\n",
    "        \n",
    "        if show_cloud and self.vario_cloud is not None:\n",
    "            axis.scatter(self.h_cloud,self.vario_cloud,\n",
    "                         facecolor=\"darkgray\",edgecolors=\"none\",s=(0.25*mpl.rcParams['lines.markersize'])**2)\n",
    "            if (selected_lag is not None) and (selected_pair is not None):\n",
    "                axis.scatter(self.h_cloud[self.h_slices[selected_lag]][selected_pair],\n",
    "                             self.vario_cloud[self.h_slices[selected_lag]][selected_pair],\n",
    "                         facecolor=\"dodgerblue\",edgecolors=\"none\",s=(1*mpl.rcParams['lines.markersize'])**2,zorder=10)\n",
    "                \n",
    "        \n",
    "        if show_vario and self.vario is not None:\n",
    "            axis.plot(self.vario_h,self.vario,\"bo--\")\n",
    "            if selected_lag is not None:\n",
    "                axis.scatter(self.vario_h[selected_lag],self.vario[selected_lag],c=\"red\",zorder=6)\n",
    "        \n",
    "        if ymax is None:\n",
    "            if self.vario is None:\n",
    "                if self.vario_cloud is None:\n",
    "                    ymax = 10\n",
    "                else:\n",
    "                    ymax = max(self.vario_cloud)\n",
    "            else:\n",
    "                ymax= 1.05*max(self.vario)\n",
    "        axis.set_ylim(0,ymax)\n",
    "        \n",
    "        if show_classes and self.classes is not None:\n",
    "            bin_segs = [[[x_i,0],[x_i,0.95*ymax]] for x_i in self.classes]\n",
    "            line_collection = LineCollection(bin_segs,\n",
    "                                colors=\"gray\",linestyle=(0,(5,8)),linewidth=0.5,\n",
    "                                zorder=5)\n",
    "            axis.add_collection(line_collection)\n",
    "            \n",
    "            if selected_lag is not None:\n",
    "                bin_segs = [[[x_i,0],[x_i,0.95*ymax]] for x_i in self.classes[[selected_lag,selected_lag+1]]]\n",
    "                line_collection = LineCollection(bin_segs,\n",
    "                                    colors=\"red\",linestyle=(0,(5,8)),linewidth=0.5,\n",
    "                                    zorder=5)\n",
    "                axis.add_collection(line_collection)\n",
    "                \n",
    "    def show_variogram_range(self,ax=None):\n",
    "        axis = plt.gca() if ax is None else ax\n",
    "        \n",
    "        if self.dim == 1:\n",
    "            print(\"to be implemented\")\n",
    "        else:\n",
    "            vectors = np.identity()\n",
    "            transformed_vectors = self.dir_rotation.apply()\n",
    "            if self.dim == 2:\n",
    "                print(\"to be implemented\")\n",
    "            else:\n",
    "                print(\"to be implemented\")"
   ]
  },
  {
   "cell_type": "code",
   "execution_count": 14,
   "metadata": {},
   "outputs": [
    {
     "ename": "AttributeError",
     "evalue": "module 'scipy.spatial' has no attribute 'transform'",
     "output_type": "error",
     "traceback": [
      "\u001b[1;31m---------------------------------------------------------------------------\u001b[0m",
      "\u001b[1;31mAttributeError\u001b[0m                            Traceback (most recent call last)",
      "\u001b[1;32m<ipython-input-14-69000024f819>\u001b[0m in \u001b[0;36m<module>\u001b[1;34m()\u001b[0m\n\u001b[1;32m----> 1\u001b[1;33m \u001b[0mrot\u001b[0m \u001b[1;33m=\u001b[0m \u001b[0mspatial\u001b[0m\u001b[1;33m.\u001b[0m\u001b[0mtransform\u001b[0m\u001b[1;33m.\u001b[0m\u001b[0mRotation\u001b[0m\u001b[1;33m.\u001b[0m\u001b[0mfrom_euler\u001b[0m\u001b[1;33m(\u001b[0m\u001b[1;34m\"zyx\"\u001b[0m\u001b[1;33m,\u001b[0m\u001b[0mnp\u001b[0m\u001b[1;33m.\u001b[0m\u001b[0mdiag\u001b[0m\u001b[1;33m(\u001b[0m\u001b[1;33m[\u001b[0m\u001b[1;36m20\u001b[0m\u001b[1;33m,\u001b[0m\u001b[1;36m0\u001b[0m\u001b[1;33m,\u001b[0m\u001b[1;36m0\u001b[0m\u001b[1;33m]\u001b[0m\u001b[1;33m)\u001b[0m\u001b[1;33m)\u001b[0m\u001b[1;33m\u001b[0m\u001b[0m\n\u001b[0m",
      "\u001b[1;31mAttributeError\u001b[0m: module 'scipy.spatial' has no attribute 'transform'"
     ]
    }
   ],
   "source": [
    "rot = spatial.transform.Rotation.from_euler(\"zyx\",np.diag([20,0,0]))"
   ]
  },
  {
   "cell_type": "code",
   "execution_count": 15,
   "metadata": {},
   "outputs": [
    {
     "data": {
      "text/plain": [
       "'1.1.0'"
      ]
     },
     "execution_count": 15,
     "metadata": {},
     "output_type": "execute_result"
    }
   ],
   "source": [
    "import scipy\n",
    "scipy.__version__"
   ]
  },
  {
   "cell_type": "code",
   "execution_count": null,
   "metadata": {},
   "outputs": [],
   "source": [
    "scipy"
   ]
  },
  {
   "cell_type": "code",
   "execution_count": 16,
   "metadata": {},
   "outputs": [
    {
     "ename": "AttributeError",
     "evalue": "module 'scipy.spatial' has no attribute 'transform'",
     "output_type": "error",
     "traceback": [
      "\u001b[1;31m---------------------------------------------------------------------------\u001b[0m",
      "\u001b[1;31mAttributeError\u001b[0m                            Traceback (most recent call last)",
      "\u001b[1;32m<ipython-input-16-1b666e1959cf>\u001b[0m in \u001b[0;36m<module>\u001b[1;34m()\u001b[0m\n\u001b[1;32m----> 1\u001b[1;33m \u001b[0mvario\u001b[0m \u001b[1;33m=\u001b[0m \u001b[0mVariogram\u001b[0m\u001b[1;33m(\u001b[0m\u001b[0mdataset\u001b[0m\u001b[1;33m)\u001b[0m\u001b[1;33m\u001b[0m\u001b[0m\n\u001b[0m\u001b[0;32m      2\u001b[0m \u001b[0mvario\u001b[0m\u001b[1;33m.\u001b[0m\u001b[0mcompute_vario_cloud\u001b[0m\u001b[1;33m(\u001b[0m\u001b[1;33m)\u001b[0m\u001b[1;33m\u001b[0m\u001b[0m\n\u001b[0;32m      3\u001b[0m \u001b[0mvario\u001b[0m\u001b[1;33m.\u001b[0m\u001b[0msetup_lags\u001b[0m\u001b[1;33m(\u001b[0m\u001b[0mmax_lag_distance\u001b[0m\u001b[1;33m=\u001b[0m\u001b[1;36m200\u001b[0m\u001b[1;33m,\u001b[0m\u001b[0mlag_unit_distance\u001b[0m\u001b[1;33m=\u001b[0m\u001b[1;36m20\u001b[0m\u001b[1;33m)\u001b[0m\u001b[1;33m\u001b[0m\u001b[0m\n\u001b[0;32m      4\u001b[0m \u001b[0mvario\u001b[0m\u001b[1;33m.\u001b[0m\u001b[0mcompute_variogram\u001b[0m\u001b[1;33m(\u001b[0m\u001b[1;33m)\u001b[0m\u001b[1;33m\u001b[0m\u001b[0m\n\u001b[0;32m      5\u001b[0m \u001b[0mvario\u001b[0m\u001b[1;33m.\u001b[0m\u001b[0mshow\u001b[0m\u001b[1;33m(\u001b[0m\u001b[0mshow_cloud\u001b[0m \u001b[1;33m=\u001b[0m \u001b[1;32mTrue\u001b[0m\u001b[1;33m,\u001b[0m\u001b[0mshow_classes\u001b[0m\u001b[1;33m=\u001b[0m\u001b[1;32mTrue\u001b[0m\u001b[1;33m)\u001b[0m\u001b[1;33m\u001b[0m\u001b[0m\n",
      "\u001b[1;32m<ipython-input-13-a49e818b6369>\u001b[0m in \u001b[0;36m__init__\u001b[1;34m(self, dataset)\u001b[0m\n\u001b[0;32m      8\u001b[0m         \u001b[0mself\u001b[0m\u001b[1;33m.\u001b[0m\u001b[0mvario\u001b[0m \u001b[1;33m=\u001b[0m \u001b[1;32mNone\u001b[0m\u001b[1;33m\u001b[0m\u001b[0m\n\u001b[0;32m      9\u001b[0m         \u001b[0mself\u001b[0m\u001b[1;33m.\u001b[0m\u001b[0mvario_cloud\u001b[0m \u001b[1;33m=\u001b[0m \u001b[1;32mNone\u001b[0m\u001b[1;33m\u001b[0m\u001b[0m\n\u001b[1;32m---> 10\u001b[1;33m         \u001b[0mself\u001b[0m\u001b[1;33m.\u001b[0m\u001b[0mset_direction\u001b[0m\u001b[1;33m(\u001b[0m\u001b[1;33m)\u001b[0m\u001b[1;33m\u001b[0m\u001b[0m\n\u001b[0m\u001b[0;32m     11\u001b[0m \u001b[1;33m\u001b[0m\u001b[0m\n\u001b[0;32m     12\u001b[0m     \u001b[1;32mdef\u001b[0m \u001b[0mset_direction\u001b[0m\u001b[1;33m(\u001b[0m\u001b[0mself\u001b[0m\u001b[1;33m,\u001b[0m\u001b[0mazimuth\u001b[0m\u001b[1;33m=\u001b[0m\u001b[1;32mNone\u001b[0m\u001b[1;33m,\u001b[0m \u001b[0mdip\u001b[0m\u001b[1;33m=\u001b[0m\u001b[1;36m0\u001b[0m\u001b[1;33m,\u001b[0m\u001b[0mroll\u001b[0m\u001b[1;33m=\u001b[0m\u001b[1;36m0\u001b[0m\u001b[1;33m)\u001b[0m\u001b[1;33m:\u001b[0m\u001b[1;33m\u001b[0m\u001b[0m\n",
      "\u001b[1;32m<ipython-input-13-a49e818b6369>\u001b[0m in \u001b[0;36mset_direction\u001b[1;34m(self, azimuth, dip, roll)\u001b[0m\n\u001b[0;32m     17\u001b[0m             \u001b[0mself\u001b[0m\u001b[1;33m.\u001b[0m\u001b[0mroll\u001b[0m \u001b[1;33m=\u001b[0m \u001b[1;32mNone\u001b[0m\u001b[1;33m\u001b[0m\u001b[0m\n\u001b[0;32m     18\u001b[0m             \u001b[0mself\u001b[0m\u001b[1;33m.\u001b[0m\u001b[0mdir_vectors\u001b[0m \u001b[1;33m=\u001b[0m \u001b[1;32mNone\u001b[0m\u001b[1;33m\u001b[0m\u001b[0m\n\u001b[1;32m---> 19\u001b[1;33m             \u001b[0mself\u001b[0m\u001b[1;33m.\u001b[0m\u001b[0mdir_rotation\u001b[0m \u001b[1;33m=\u001b[0m \u001b[0mspatial\u001b[0m\u001b[1;33m.\u001b[0m\u001b[0mtransform\u001b[0m\u001b[1;33m.\u001b[0m\u001b[0mRotation\u001b[0m\u001b[1;33m(\u001b[0m\u001b[1;33m)\u001b[0m\u001b[1;33m\u001b[0m\u001b[0m\n\u001b[0m\u001b[0;32m     20\u001b[0m         \u001b[1;32melif\u001b[0m \u001b[0mself\u001b[0m\u001b[1;33m.\u001b[0m\u001b[0mdim\u001b[0m\u001b[1;33m<\u001b[0m\u001b[1;36m2\u001b[0m\u001b[1;33m:\u001b[0m\u001b[1;33m\u001b[0m\u001b[0m\n\u001b[0;32m     21\u001b[0m             \u001b[0mprint\u001b[0m\u001b[1;33m(\u001b[0m\u001b[1;34m\"Warning: 1D variogram can't be anisotropic.\\n Making it isotropic instead.\"\u001b[0m\u001b[1;33m)\u001b[0m\u001b[1;33m\u001b[0m\u001b[0m\n",
      "\u001b[1;31mAttributeError\u001b[0m: module 'scipy.spatial' has no attribute 'transform'"
     ]
    }
   ],
   "source": [
    "vario = Variogram(dataset)\n",
    "vario.compute_vario_cloud()\n",
    "vario.setup_lags(max_lag_distance=200,lag_unit_distance=20)\n",
    "vario.compute_variogram()\n",
    "vario.show(show_cloud = True,show_classes=True)"
   ]
  },
  {
   "cell_type": "code",
   "execution_count": 17,
   "metadata": {},
   "outputs": [
    {
     "ename": "NameError",
     "evalue": "name 'vario' is not defined",
     "output_type": "error",
     "traceback": [
      "\u001b[1;31m---------------------------------------------------------------------------\u001b[0m",
      "\u001b[1;31mNameError\u001b[0m                                 Traceback (most recent call last)",
      "\u001b[1;32m<ipython-input-17-46d91109ee53>\u001b[0m in \u001b[0;36m<module>\u001b[1;34m()\u001b[0m\n\u001b[0;32m      1\u001b[0m \u001b[0mdataset\u001b[0m\u001b[1;33m.\u001b[0m\u001b[0mshow\u001b[0m\u001b[1;33m(\u001b[0m\u001b[1;33m)\u001b[0m\u001b[1;33m\u001b[0m\u001b[0m\n\u001b[1;32m----> 2\u001b[1;33m \u001b[0mdataset\u001b[0m\u001b[1;33m.\u001b[0m\u001b[0mshow_pairs\u001b[0m\u001b[1;33m(\u001b[0m\u001b[0mpairs\u001b[0m\u001b[1;33m=\u001b[0m\u001b[0mvario\u001b[0m\u001b[1;33m.\u001b[0m\u001b[0mget_pairs_class\u001b[0m\u001b[1;33m(\u001b[0m\u001b[1;36m0\u001b[0m\u001b[1;33m)\u001b[0m\u001b[1;33m)\u001b[0m\u001b[1;33m\u001b[0m\u001b[0m\n\u001b[0m",
      "\u001b[1;31mNameError\u001b[0m: name 'vario' is not defined"
     ]
    },
    {
     "data": {
      "image/png": "[encoded data removed]",
      "text/plain": [
       "<Figure size 432x288 with 2 Axes>"
      ]
     },
     "metadata": {},
     "output_type": "display_data"
    }
   ],
   "source": [
    "dataset.show()\n",
    "dataset.show_pairs(pairs=vario.get_pairs_class(0))"
   ]
  },
  {
   "cell_type": "code",
   "execution_count": 18,
   "metadata": {},
   "outputs": [
    {
     "ename": "NameError",
     "evalue": "name 'vario' is not defined",
     "output_type": "error",
     "traceback": [
      "\u001b[1;31m---------------------------------------------------------------------------\u001b[0m",
      "\u001b[1;31mNameError\u001b[0m                                 Traceback (most recent call last)",
      "\u001b[1;32m<ipython-input-18-e8ed3ce98a92>\u001b[0m in \u001b[0;36m<module>\u001b[1;34m()\u001b[0m\n\u001b[1;32m----> 1\u001b[1;33m \u001b[0mvario\u001b[0m\u001b[1;33m.\u001b[0m\u001b[0mshow\u001b[0m\u001b[1;33m(\u001b[0m\u001b[0mshow_cloud\u001b[0m \u001b[1;33m=\u001b[0m \u001b[1;32mTrue\u001b[0m\u001b[1;33m,\u001b[0m\u001b[0mshow_classes\u001b[0m\u001b[1;33m=\u001b[0m\u001b[1;32mTrue\u001b[0m\u001b[1;33m)\u001b[0m\u001b[1;33m\u001b[0m\u001b[0m\n\u001b[0m\u001b[0;32m      2\u001b[0m \u001b[0mvario\u001b[0m\u001b[1;33m.\u001b[0m\u001b[0mcompute_variogram\u001b[0m\u001b[1;33m(\u001b[0m\u001b[0mmethod_h\u001b[0m\u001b[1;33m=\u001b[0m\u001b[0mnp\u001b[0m\u001b[1;33m.\u001b[0m\u001b[0mmedian\u001b[0m\u001b[1;33m)\u001b[0m\u001b[1;33m\u001b[0m\u001b[0m\n\u001b[0;32m      3\u001b[0m \u001b[0mvario\u001b[0m\u001b[1;33m.\u001b[0m\u001b[0mshow\u001b[0m\u001b[1;33m(\u001b[0m\u001b[0mshow_cloud\u001b[0m \u001b[1;33m=\u001b[0m \u001b[1;32mFalse\u001b[0m\u001b[1;33m,\u001b[0m\u001b[0mshow_classes\u001b[0m\u001b[1;33m=\u001b[0m\u001b[1;32mFalse\u001b[0m\u001b[1;33m)\u001b[0m\u001b[1;33m\u001b[0m\u001b[0m\n",
      "\u001b[1;31mNameError\u001b[0m: name 'vario' is not defined"
     ]
    }
   ],
   "source": [
    "vario.show(show_cloud = True,show_classes=True)\n",
    "vario.compute_variogram(method_h=np.median)\n",
    "vario.show(show_cloud = False,show_classes=False)"
   ]
  },
  {
   "cell_type": "code",
   "execution_count": 19,
   "metadata": {},
   "outputs": [
    {
     "ename": "AttributeError",
     "evalue": "module 'scipy.spatial' has no attribute 'transform'",
     "output_type": "error",
     "traceback": [
      "\u001b[1;31m---------------------------------------------------------------------------\u001b[0m",
      "\u001b[1;31mAttributeError\u001b[0m                            Traceback (most recent call last)",
      "\u001b[1;32m<ipython-input-19-6e1c16fb0d48>\u001b[0m in \u001b[0;36m<module>\u001b[1;34m()\u001b[0m\n\u001b[1;32m----> 1\u001b[1;33m \u001b[0mvario\u001b[0m \u001b[1;33m=\u001b[0m \u001b[0mVariogram\u001b[0m\u001b[1;33m(\u001b[0m\u001b[0mdataset\u001b[0m\u001b[1;33m)\u001b[0m\u001b[1;33m\u001b[0m\u001b[0m\n\u001b[0m\u001b[0;32m      2\u001b[0m \u001b[0mvario\u001b[0m\u001b[1;33m.\u001b[0m\u001b[0mcompute_vario_cloud\u001b[0m\u001b[1;33m(\u001b[0m\u001b[1;33m)\u001b[0m\u001b[1;33m\u001b[0m\u001b[0m\n\u001b[0;32m      3\u001b[0m \u001b[0mvario\u001b[0m\u001b[1;33m.\u001b[0m\u001b[0msetup_lags\u001b[0m\u001b[1;33m(\u001b[0m\u001b[1;33m)\u001b[0m\u001b[1;33m\u001b[0m\u001b[0m\n\u001b[0;32m      4\u001b[0m \u001b[0mvario\u001b[0m\u001b[1;33m.\u001b[0m\u001b[0mcompute_variogram\u001b[0m\u001b[1;33m(\u001b[0m\u001b[1;33m)\u001b[0m\u001b[1;33m\u001b[0m\u001b[0m\n\u001b[0;32m      5\u001b[0m \u001b[0mlag_unit_distance_widget\u001b[0m \u001b[1;33m=\u001b[0m \u001b[0mwidgets\u001b[0m\u001b[1;33m.\u001b[0m\u001b[0mFloatSlider\u001b[0m\u001b[1;33m(\u001b[0m\u001b[0mmin\u001b[0m\u001b[1;33m=\u001b[0m\u001b[1;36m0.01\u001b[0m\u001b[1;33m,\u001b[0m\u001b[0mmax\u001b[0m\u001b[1;33m=\u001b[0m\u001b[0mvario\u001b[0m\u001b[1;33m.\u001b[0m\u001b[0mdataset\u001b[0m\u001b[1;33m.\u001b[0m\u001b[0mmax_dist\u001b[0m\u001b[1;33m(\u001b[0m\u001b[1;33m)\u001b[0m\u001b[1;33m,\u001b[0m\u001b[0mstep\u001b[0m\u001b[1;33m=\u001b[0m\u001b[1;36m1\u001b[0m\u001b[1;33m,\u001b[0m \u001b[0mvalue\u001b[0m\u001b[1;33m=\u001b[0m\u001b[0mvario\u001b[0m\u001b[1;33m.\u001b[0m\u001b[0mlag_unit_distance\u001b[0m\u001b[1;33m,\u001b[0m \u001b[0mcontinuous_update\u001b[0m\u001b[1;33m=\u001b[0m\u001b[1;32mTrue\u001b[0m\u001b[1;33m)\u001b[0m\u001b[1;33m\u001b[0m\u001b[0m\n",
      "\u001b[1;32m<ipython-input-13-a49e818b6369>\u001b[0m in \u001b[0;36m__init__\u001b[1;34m(self, dataset)\u001b[0m\n\u001b[0;32m      8\u001b[0m         \u001b[0mself\u001b[0m\u001b[1;33m.\u001b[0m\u001b[0mvario\u001b[0m \u001b[1;33m=\u001b[0m \u001b[1;32mNone\u001b[0m\u001b[1;33m\u001b[0m\u001b[0m\n\u001b[0;32m      9\u001b[0m         \u001b[0mself\u001b[0m\u001b[1;33m.\u001b[0m\u001b[0mvario_cloud\u001b[0m \u001b[1;33m=\u001b[0m \u001b[1;32mNone\u001b[0m\u001b[1;33m\u001b[0m\u001b[0m\n\u001b[1;32m---> 10\u001b[1;33m         \u001b[0mself\u001b[0m\u001b[1;33m.\u001b[0m\u001b[0mset_direction\u001b[0m\u001b[1;33m(\u001b[0m\u001b[1;33m)\u001b[0m\u001b[1;33m\u001b[0m\u001b[0m\n\u001b[0m\u001b[0;32m     11\u001b[0m \u001b[1;33m\u001b[0m\u001b[0m\n\u001b[0;32m     12\u001b[0m     \u001b[1;32mdef\u001b[0m \u001b[0mset_direction\u001b[0m\u001b[1;33m(\u001b[0m\u001b[0mself\u001b[0m\u001b[1;33m,\u001b[0m\u001b[0mazimuth\u001b[0m\u001b[1;33m=\u001b[0m\u001b[1;32mNone\u001b[0m\u001b[1;33m,\u001b[0m \u001b[0mdip\u001b[0m\u001b[1;33m=\u001b[0m\u001b[1;36m0\u001b[0m\u001b[1;33m,\u001b[0m\u001b[0mroll\u001b[0m\u001b[1;33m=\u001b[0m\u001b[1;36m0\u001b[0m\u001b[1;33m)\u001b[0m\u001b[1;33m:\u001b[0m\u001b[1;33m\u001b[0m\u001b[0m\n",
      "\u001b[1;32m<ipython-input-13-a49e818b6369>\u001b[0m in \u001b[0;36mset_direction\u001b[1;34m(self, azimuth, dip, roll)\u001b[0m\n\u001b[0;32m     17\u001b[0m             \u001b[0mself\u001b[0m\u001b[1;33m.\u001b[0m\u001b[0mroll\u001b[0m \u001b[1;33m=\u001b[0m \u001b[1;32mNone\u001b[0m\u001b[1;33m\u001b[0m\u001b[0m\n\u001b[0;32m     18\u001b[0m             \u001b[0mself\u001b[0m\u001b[1;33m.\u001b[0m\u001b[0mdir_vectors\u001b[0m \u001b[1;33m=\u001b[0m \u001b[1;32mNone\u001b[0m\u001b[1;33m\u001b[0m\u001b[0m\n\u001b[1;32m---> 19\u001b[1;33m             \u001b[0mself\u001b[0m\u001b[1;33m.\u001b[0m\u001b[0mdir_rotation\u001b[0m \u001b[1;33m=\u001b[0m \u001b[0mspatial\u001b[0m\u001b[1;33m.\u001b[0m\u001b[0mtransform\u001b[0m\u001b[1;33m.\u001b[0m\u001b[0mRotation\u001b[0m\u001b[1;33m(\u001b[0m\u001b[1;33m)\u001b[0m\u001b[1;33m\u001b[0m\u001b[0m\n\u001b[0m\u001b[0;32m     20\u001b[0m         \u001b[1;32melif\u001b[0m \u001b[0mself\u001b[0m\u001b[1;33m.\u001b[0m\u001b[0mdim\u001b[0m\u001b[1;33m<\u001b[0m\u001b[1;36m2\u001b[0m\u001b[1;33m:\u001b[0m\u001b[1;33m\u001b[0m\u001b[0m\n\u001b[0;32m     21\u001b[0m             \u001b[0mprint\u001b[0m\u001b[1;33m(\u001b[0m\u001b[1;34m\"Warning: 1D variogram can't be anisotropic.\\n Making it isotropic instead.\"\u001b[0m\u001b[1;33m)\u001b[0m\u001b[1;33m\u001b[0m\u001b[0m\n",
      "\u001b[1;31mAttributeError\u001b[0m: module 'scipy.spatial' has no attribute 'transform'"
     ]
    }
   ],
   "source": [
    "vario = Variogram(dataset)\n",
    "vario.compute_vario_cloud()\n",
    "vario.setup_lags()\n",
    "vario.compute_variogram()\n",
    "lag_unit_distance_widget = widgets.FloatSlider(min=0.01,max=vario.dataset.max_dist(),step=1, value=vario.lag_unit_distance, continuous_update=True)\n",
    "max_lag_distance_widget = widgets.FloatSlider(min=vario.dataset.max_dist()/1000,max=vario.dataset.max_dist(),step=1, value=vario.max_lag_distance, continuous_update=True)\n",
    "selected_lag_widget = widgets.IntSlider(min=0,max = vario.nb_lags, step =1, value=0, continuous_update=True )\n",
    "selected_pair_widget = widgets.IntSlider(min=0,max = 1, step =1, value=0, continuous_update=True )\n",
    "\n",
    "def update_max_lag(*args):\n",
    "    vario.setup_lags(max_lag_distance=max_lag_distance_widget.value,lag_unit_distance=lag_unit_distance_widget.value)\n",
    "    selected_lag_widget.max = vario.nb_lags\n",
    "    \n",
    "max_lag_distance_widget.observe(update_max_lag,\"value\")\n",
    "lag_unit_distance_widget.observe(update_max_lag,\"value\")\n",
    "\n",
    "def update_selected_pair_max(*args):\n",
    "    vario.setup_lags(max_lag_distance=max_lag_distance_widget.value,lag_unit_distance=lag_unit_distance_widget.value)\n",
    "    selected_pair_widget.max = len(vario.pairs[vario.h_slices[selected_lag_widget.value]])-1\n",
    "    selected_pair_widget.value=0\n",
    "    \n",
    "max_lag_distance_widget.observe(update_selected_pair_max,\"value\")\n",
    "lag_unit_distance_widget.observe(update_selected_pair_max,\"value\")\n",
    "selected_lag_widget.observe(update_selected_pair_max,\"value\")\n",
    "\n",
    "@interact(\n",
    "    lag_unit_distance=lag_unit_distance_widget,\n",
    "    max_lag_distance=max_lag_distance_widget,\n",
    "    selected_lag=selected_lag_widget,\n",
    "    selected_pair=selected_pair_widget,\n",
    "    vario=fixed(vario))\n",
    "def explore_vario(lag_unit_distance,max_lag_distance,selected_lag,selected_pair,vario):\n",
    "    fig,axes = plt.subplots(1,2)\n",
    "    \n",
    "    vario.setup_lags(max_lag_distance=max_lag_distance,lag_unit_distance=lag_unit_distance)\n",
    "    vario.compute_variogram()\n",
    "    vario.show(show_cloud = True,show_classes=True,ax=axes[0],selected_lag=selected_lag,selected_pair=selected_pair)\n",
    "    \n",
    "    dataset.show(ax=axes[1])\n",
    "    dataset.show_pairs(pairs=vario.get_pairs_class(selected_lag),ax=axes[1],highlight_index=selected_pair)\n",
    "    fig.set_size_inches((16,6))"
   ]
  },
  {
   "cell_type": "markdown",
   "metadata": {},
   "source": [
    "# 2D cours"
   ]
  },
  {
   "cell_type": "code",
   "execution_count": 41,
   "metadata": {},
   "outputs": [
    {
     "data": {
      "image/png": "[encoded data removed]",
      "text/plain": [
       "<Figure size 432x288 with 2 Axes>"
      ]
     },
     "metadata": {},
     "output_type": "display_data"
    }
   ],
   "source": [
    "dataset = DataSet(\n",
    "    coord_array=[0,8]+[1,-1]*(np.array([[1,j] for j in range(10)]+\\\n",
    "[[2,j] for j in range(3)]+[[2,5+j] for j in range(2)]+[[2,9]]+\\\n",
    "[[3,j] for j in range(4)]+[[3,5+j] for j in range(5)]+\\\n",
    "[[4,j] for j in range(3)]+[[4,4+j] for j in range(3)]+[[4,9]]+\\\n",
    "[[5,2],[5,5],[6,3],[6,7],[6,8],[7,7],[7,9],[8,5]])[:,[1,0]]),\n",
    "    val_array=[35,35,33,33,34,31,35,37,41,41,35,35,35,35,33,41,37,35,37,35,37,37,39,39,41,37,40,42,34,36,41,34,41,33,35,42,33,39,31,30],\n",
    "    box_array=[[0,10],[0,8]]\n",
    ")\n",
    "dataset.show()"
   ]
  },
  {
   "cell_type": "code",
   "execution_count": 42,
   "metadata": {},
   "outputs": [
    {
     "data": {
      "text/html": [
       "<div>\n",
       "<style scoped>\n",
       "    .dataframe tbody tr th:only-of-type {\n",
       "        vertical-align: middle;\n",
       "    }\n",
       "\n",
       "    .dataframe tbody tr th {\n",
       "        vertical-align: top;\n",
       "    }\n",
       "\n",
       "    .dataframe thead th {\n",
       "        text-align: right;\n",
       "    }\n",
       "</style>\n",
       "<table border=\"1\" class=\"dataframe\">\n",
       "  <thead>\n",
       "    <tr style=\"text-align: right;\">\n",
       "      <th></th>\n",
       "      <th>X</th>\n",
       "      <th>Y</th>\n",
       "      <th>Z</th>\n",
       "    </tr>\n",
       "  </thead>\n",
       "  <tbody>\n",
       "    <tr>\n",
       "      <th>0</th>\n",
       "      <td>0</td>\n",
       "      <td>7</td>\n",
       "      <td>35</td>\n",
       "    </tr>\n",
       "    <tr>\n",
       "      <th>1</th>\n",
       "      <td>1</td>\n",
       "      <td>7</td>\n",
       "      <td>35</td>\n",
       "    </tr>\n",
       "    <tr>\n",
       "      <th>2</th>\n",
       "      <td>2</td>\n",
       "      <td>7</td>\n",
       "      <td>33</td>\n",
       "    </tr>\n",
       "    <tr>\n",
       "      <th>3</th>\n",
       "      <td>3</td>\n",
       "      <td>7</td>\n",
       "      <td>33</td>\n",
       "    </tr>\n",
       "    <tr>\n",
       "      <th>4</th>\n",
       "      <td>4</td>\n",
       "      <td>7</td>\n",
       "      <td>34</td>\n",
       "    </tr>\n",
       "    <tr>\n",
       "      <th>5</th>\n",
       "      <td>5</td>\n",
       "      <td>7</td>\n",
       "      <td>31</td>\n",
       "    </tr>\n",
       "    <tr>\n",
       "      <th>6</th>\n",
       "      <td>6</td>\n",
       "      <td>7</td>\n",
       "      <td>35</td>\n",
       "    </tr>\n",
       "    <tr>\n",
       "      <th>7</th>\n",
       "      <td>7</td>\n",
       "      <td>7</td>\n",
       "      <td>37</td>\n",
       "    </tr>\n",
       "    <tr>\n",
       "      <th>8</th>\n",
       "      <td>8</td>\n",
       "      <td>7</td>\n",
       "      <td>41</td>\n",
       "    </tr>\n",
       "    <tr>\n",
       "      <th>9</th>\n",
       "      <td>9</td>\n",
       "      <td>7</td>\n",
       "      <td>41</td>\n",
       "    </tr>\n",
       "    <tr>\n",
       "      <th>10</th>\n",
       "      <td>0</td>\n",
       "      <td>6</td>\n",
       "      <td>35</td>\n",
       "    </tr>\n",
       "    <tr>\n",
       "      <th>11</th>\n",
       "      <td>1</td>\n",
       "      <td>6</td>\n",
       "      <td>35</td>\n",
       "    </tr>\n",
       "    <tr>\n",
       "      <th>12</th>\n",
       "      <td>2</td>\n",
       "      <td>6</td>\n",
       "      <td>35</td>\n",
       "    </tr>\n",
       "    <tr>\n",
       "      <th>13</th>\n",
       "      <td>5</td>\n",
       "      <td>6</td>\n",
       "      <td>35</td>\n",
       "    </tr>\n",
       "    <tr>\n",
       "      <th>14</th>\n",
       "      <td>6</td>\n",
       "      <td>6</td>\n",
       "      <td>33</td>\n",
       "    </tr>\n",
       "    <tr>\n",
       "      <th>15</th>\n",
       "      <td>9</td>\n",
       "      <td>6</td>\n",
       "      <td>41</td>\n",
       "    </tr>\n",
       "    <tr>\n",
       "      <th>16</th>\n",
       "      <td>0</td>\n",
       "      <td>5</td>\n",
       "      <td>37</td>\n",
       "    </tr>\n",
       "    <tr>\n",
       "      <th>17</th>\n",
       "      <td>1</td>\n",
       "      <td>5</td>\n",
       "      <td>35</td>\n",
       "    </tr>\n",
       "    <tr>\n",
       "      <th>18</th>\n",
       "      <td>2</td>\n",
       "      <td>5</td>\n",
       "      <td>37</td>\n",
       "    </tr>\n",
       "    <tr>\n",
       "      <th>19</th>\n",
       "      <td>3</td>\n",
       "      <td>5</td>\n",
       "      <td>35</td>\n",
       "    </tr>\n",
       "    <tr>\n",
       "      <th>20</th>\n",
       "      <td>5</td>\n",
       "      <td>5</td>\n",
       "      <td>37</td>\n",
       "    </tr>\n",
       "    <tr>\n",
       "      <th>21</th>\n",
       "      <td>6</td>\n",
       "      <td>5</td>\n",
       "      <td>37</td>\n",
       "    </tr>\n",
       "    <tr>\n",
       "      <th>22</th>\n",
       "      <td>7</td>\n",
       "      <td>5</td>\n",
       "      <td>39</td>\n",
       "    </tr>\n",
       "    <tr>\n",
       "      <th>23</th>\n",
       "      <td>8</td>\n",
       "      <td>5</td>\n",
       "      <td>39</td>\n",
       "    </tr>\n",
       "    <tr>\n",
       "      <th>24</th>\n",
       "      <td>9</td>\n",
       "      <td>5</td>\n",
       "      <td>41</td>\n",
       "    </tr>\n",
       "    <tr>\n",
       "      <th>25</th>\n",
       "      <td>0</td>\n",
       "      <td>4</td>\n",
       "      <td>37</td>\n",
       "    </tr>\n",
       "    <tr>\n",
       "      <th>26</th>\n",
       "      <td>1</td>\n",
       "      <td>4</td>\n",
       "      <td>40</td>\n",
       "    </tr>\n",
       "    <tr>\n",
       "      <th>27</th>\n",
       "      <td>2</td>\n",
       "      <td>4</td>\n",
       "      <td>42</td>\n",
       "    </tr>\n",
       "    <tr>\n",
       "      <th>28</th>\n",
       "      <td>4</td>\n",
       "      <td>4</td>\n",
       "      <td>34</td>\n",
       "    </tr>\n",
       "    <tr>\n",
       "      <th>29</th>\n",
       "      <td>5</td>\n",
       "      <td>4</td>\n",
       "      <td>36</td>\n",
       "    </tr>\n",
       "    <tr>\n",
       "      <th>30</th>\n",
       "      <td>6</td>\n",
       "      <td>4</td>\n",
       "      <td>41</td>\n",
       "    </tr>\n",
       "    <tr>\n",
       "      <th>31</th>\n",
       "      <td>9</td>\n",
       "      <td>4</td>\n",
       "      <td>34</td>\n",
       "    </tr>\n",
       "    <tr>\n",
       "      <th>32</th>\n",
       "      <td>2</td>\n",
       "      <td>3</td>\n",
       "      <td>41</td>\n",
       "    </tr>\n",
       "    <tr>\n",
       "      <th>33</th>\n",
       "      <td>5</td>\n",
       "      <td>3</td>\n",
       "      <td>33</td>\n",
       "    </tr>\n",
       "    <tr>\n",
       "      <th>34</th>\n",
       "      <td>3</td>\n",
       "      <td>2</td>\n",
       "      <td>35</td>\n",
       "    </tr>\n",
       "    <tr>\n",
       "      <th>35</th>\n",
       "      <td>7</td>\n",
       "      <td>2</td>\n",
       "      <td>42</td>\n",
       "    </tr>\n",
       "    <tr>\n",
       "      <th>36</th>\n",
       "      <td>8</td>\n",
       "      <td>2</td>\n",
       "      <td>33</td>\n",
       "    </tr>\n",
       "    <tr>\n",
       "      <th>37</th>\n",
       "      <td>7</td>\n",
       "      <td>1</td>\n",
       "      <td>39</td>\n",
       "    </tr>\n",
       "    <tr>\n",
       "      <th>38</th>\n",
       "      <td>9</td>\n",
       "      <td>1</td>\n",
       "      <td>31</td>\n",
       "    </tr>\n",
       "    <tr>\n",
       "      <th>39</th>\n",
       "      <td>5</td>\n",
       "      <td>0</td>\n",
       "      <td>30</td>\n",
       "    </tr>\n",
       "  </tbody>\n",
       "</table>\n",
       "</div>"
      ],
      "text/plain": [
       "    X  Y   Z\n",
       "0   0  7  35\n",
       "1   1  7  35\n",
       "2   2  7  33\n",
       "3   3  7  33\n",
       "4   4  7  34\n",
       "5   5  7  31\n",
       "6   6  7  35\n",
       "7   7  7  37\n",
       "8   8  7  41\n",
       "9   9  7  41\n",
       "10  0  6  35\n",
       "11  1  6  35\n",
       "12  2  6  35\n",
       "13  5  6  35\n",
       "14  6  6  33\n",
       "15  9  6  41\n",
       "16  0  5  37\n",
       "17  1  5  35\n",
       "18  2  5  37\n",
       "19  3  5  35\n",
       "20  5  5  37\n",
       "21  6  5  37\n",
       "22  7  5  39\n",
       "23  8  5  39\n",
       "24  9  5  41\n",
       "25  0  4  37\n",
       "26  1  4  40\n",
       "27  2  4  42\n",
       "28  4  4  34\n",
       "29  5  4  36\n",
       "30  6  4  41\n",
       "31  9  4  34\n",
       "32  2  3  41\n",
       "33  5  3  33\n",
       "34  3  2  35\n",
       "35  7  2  42\n",
       "36  8  2  33\n",
       "37  7  1  39\n",
       "38  9  1  31\n",
       "39  5  0  30"
      ]
     },
     "execution_count": 42,
     "metadata": {},
     "output_type": "execute_result"
    }
   ],
   "source": [
    "dataset.data"
   ]
  },
  {
   "cell_type": "code",
   "execution_count": 259,
   "metadata": {
    "scrolled": true
   },
   "outputs": [
    {
     "name": "stderr",
     "output_type": "stream",
     "text": [
      "C:\\ProgramData\\Anaconda3\\lib\\site-packages\\numpy\\core\\fromnumeric.py:2957: RuntimeWarning: Mean of empty slice.\n",
      "  out=out, **kwargs)\n",
      "C:\\ProgramData\\Anaconda3\\lib\\site-packages\\numpy\\core\\_methods.py:80: RuntimeWarning: invalid value encountered in double_scalars\n",
      "  ret = ret.dtype.type(ret / rcount)\n"
     ]
    },
    {
     "ename": "ValueError",
     "evalue": "Axis limits cannot be NaN or Inf",
     "output_type": "error",
     "traceback": [
      "\u001b[1;31m---------------------------------------------------------------------------\u001b[0m",
      "\u001b[1;31mValueError\u001b[0m                                Traceback (most recent call last)",
      "\u001b[1;32m<ipython-input-259-98464d2dfc4d>\u001b[0m in \u001b[0;36m<module>\u001b[1;34m()\u001b[0m\n\u001b[0;32m      3\u001b[0m \u001b[0mvario\u001b[0m\u001b[1;33m.\u001b[0m\u001b[0msetup_lags\u001b[0m\u001b[1;33m(\u001b[0m\u001b[1;33m)\u001b[0m\u001b[1;31m#max_lag_distance=7,lag_unit_distance=1.5)\u001b[0m\u001b[1;33m\u001b[0m\u001b[0m\n\u001b[0;32m      4\u001b[0m \u001b[0mvario\u001b[0m\u001b[1;33m.\u001b[0m\u001b[0mcompute_variogram\u001b[0m\u001b[1;33m(\u001b[0m\u001b[1;33m)\u001b[0m\u001b[1;33m\u001b[0m\u001b[0m\n\u001b[1;32m----> 5\u001b[1;33m \u001b[0mvario\u001b[0m\u001b[1;33m.\u001b[0m\u001b[0mshow\u001b[0m\u001b[1;33m(\u001b[0m\u001b[0mshow_cloud\u001b[0m \u001b[1;33m=\u001b[0m \u001b[1;32mTrue\u001b[0m\u001b[1;33m,\u001b[0m\u001b[0mshow_classes\u001b[0m\u001b[1;33m=\u001b[0m\u001b[1;32mTrue\u001b[0m\u001b[1;33m,\u001b[0m\u001b[0mshow_vario\u001b[0m\u001b[1;33m=\u001b[0m\u001b[1;32mTrue\u001b[0m\u001b[1;33m)\u001b[0m\u001b[1;33m\u001b[0m\u001b[0m\n\u001b[0m",
      "\u001b[1;32m<ipython-input-235-8884fdc95cda>\u001b[0m in \u001b[0;36mshow\u001b[1;34m(self, show_vario, show_cloud, show_classes, ax, ymax, selected_lag, selected_pair)\u001b[0m\n\u001b[0;32m    113\u001b[0m             \u001b[1;32melse\u001b[0m\u001b[1;33m:\u001b[0m\u001b[1;33m\u001b[0m\u001b[0m\n\u001b[0;32m    114\u001b[0m                 \u001b[0mymax\u001b[0m\u001b[1;33m=\u001b[0m \u001b[1;36m1.05\u001b[0m\u001b[1;33m*\u001b[0m\u001b[0mmax\u001b[0m\u001b[1;33m(\u001b[0m\u001b[0mself\u001b[0m\u001b[1;33m.\u001b[0m\u001b[0mvario\u001b[0m\u001b[1;33m)\u001b[0m\u001b[1;33m\u001b[0m\u001b[0m\n\u001b[1;32m--> 115\u001b[1;33m         \u001b[0maxis\u001b[0m\u001b[1;33m.\u001b[0m\u001b[0mset_ylim\u001b[0m\u001b[1;33m(\u001b[0m\u001b[1;36m0\u001b[0m\u001b[1;33m,\u001b[0m\u001b[0mymax\u001b[0m\u001b[1;33m)\u001b[0m\u001b[1;33m\u001b[0m\u001b[0m\n\u001b[0m\u001b[0;32m    116\u001b[0m \u001b[1;33m\u001b[0m\u001b[0m\n\u001b[0;32m    117\u001b[0m         \u001b[1;32mif\u001b[0m \u001b[0mshow_classes\u001b[0m \u001b[1;32mand\u001b[0m \u001b[0mself\u001b[0m\u001b[1;33m.\u001b[0m\u001b[0mclasses\u001b[0m \u001b[1;32mis\u001b[0m \u001b[1;32mnot\u001b[0m \u001b[1;32mNone\u001b[0m\u001b[1;33m:\u001b[0m\u001b[1;33m\u001b[0m\u001b[0m\n",
      "\u001b[1;32mC:\\ProgramData\\Anaconda3\\lib\\site-packages\\matplotlib\\axes\\_base.py\u001b[0m in \u001b[0;36mset_ylim\u001b[1;34m(self, bottom, top, emit, auto, **kw)\u001b[0m\n\u001b[0;32m   3428\u001b[0m \u001b[1;33m\u001b[0m\u001b[0m\n\u001b[0;32m   3429\u001b[0m         \u001b[0mbottom\u001b[0m \u001b[1;33m=\u001b[0m \u001b[0mself\u001b[0m\u001b[1;33m.\u001b[0m\u001b[0m_validate_converted_limits\u001b[0m\u001b[1;33m(\u001b[0m\u001b[0mbottom\u001b[0m\u001b[1;33m,\u001b[0m \u001b[0mself\u001b[0m\u001b[1;33m.\u001b[0m\u001b[0mconvert_yunits\u001b[0m\u001b[1;33m)\u001b[0m\u001b[1;33m\u001b[0m\u001b[0m\n\u001b[1;32m-> 3430\u001b[1;33m         \u001b[0mtop\u001b[0m \u001b[1;33m=\u001b[0m \u001b[0mself\u001b[0m\u001b[1;33m.\u001b[0m\u001b[0m_validate_converted_limits\u001b[0m\u001b[1;33m(\u001b[0m\u001b[0mtop\u001b[0m\u001b[1;33m,\u001b[0m \u001b[0mself\u001b[0m\u001b[1;33m.\u001b[0m\u001b[0mconvert_yunits\u001b[0m\u001b[1;33m)\u001b[0m\u001b[1;33m\u001b[0m\u001b[0m\n\u001b[0m\u001b[0;32m   3431\u001b[0m \u001b[1;33m\u001b[0m\u001b[0m\n\u001b[0;32m   3432\u001b[0m         \u001b[0mold_bottom\u001b[0m\u001b[1;33m,\u001b[0m \u001b[0mold_top\u001b[0m \u001b[1;33m=\u001b[0m \u001b[0mself\u001b[0m\u001b[1;33m.\u001b[0m\u001b[0mget_ylim\u001b[0m\u001b[1;33m(\u001b[0m\u001b[1;33m)\u001b[0m\u001b[1;33m\u001b[0m\u001b[0m\n",
      "\u001b[1;32mC:\\ProgramData\\Anaconda3\\lib\\site-packages\\matplotlib\\axes\\_base.py\u001b[0m in \u001b[0;36m_validate_converted_limits\u001b[1;34m(self, limit, convert)\u001b[0m\n\u001b[0;32m   3038\u001b[0m                     (not np.isreal(converted_limit) or\n\u001b[0;32m   3039\u001b[0m                         not np.isfinite(converted_limit))):\n\u001b[1;32m-> 3040\u001b[1;33m                 \u001b[1;32mraise\u001b[0m \u001b[0mValueError\u001b[0m\u001b[1;33m(\u001b[0m\u001b[1;34m\"Axis limits cannot be NaN or Inf\"\u001b[0m\u001b[1;33m)\u001b[0m\u001b[1;33m\u001b[0m\u001b[0m\n\u001b[0m\u001b[0;32m   3041\u001b[0m             \u001b[1;32mreturn\u001b[0m \u001b[0mconverted_limit\u001b[0m\u001b[1;33m\u001b[0m\u001b[0m\n\u001b[0;32m   3042\u001b[0m \u001b[1;33m\u001b[0m\u001b[0m\n",
      "\u001b[1;31mValueError\u001b[0m: Axis limits cannot be NaN or Inf"
     ]
    },
    {
     "data": {
      "image/png": "[encoded data removed]",
      "text/plain": [
       "<Figure size 432x288 with 1 Axes>"
      ]
     },
     "metadata": {},
     "output_type": "display_data"
    }
   ],
   "source": [
    "vario = Variogram(dataset)\n",
    "vario.compute_vario_cloud()\n",
    "vario.setup_lags()#max_lag_distance=7,lag_unit_distance=1.5)\n",
    "vario.compute_variogram()\n",
    "vario.show(show_cloud = True,show_classes=True,show_vario=True)"
   ]
  },
  {
   "cell_type": "code",
   "execution_count": 261,
   "metadata": {},
   "outputs": [
    {
     "data": {
      "text/plain": [
       "[nan, 11.527777777777779, 19.066666666666666, 20.86813186813187]"
      ]
     },
     "execution_count": 261,
     "metadata": {},
     "output_type": "execute_result"
    }
   ],
   "source": [
    "vario.vario"
   ]
  },
  {
   "cell_type": "code",
   "execution_count": 256,
   "metadata": {},
   "outputs": [
    {
     "data": {
      "text/html": [
       "<div>\n",
       "<style scoped>\n",
       "    .dataframe tbody tr th:only-of-type {\n",
       "        vertical-align: middle;\n",
       "    }\n",
       "\n",
       "    .dataframe tbody tr th {\n",
       "        vertical-align: top;\n",
       "    }\n",
       "\n",
       "    .dataframe thead th {\n",
       "        text-align: right;\n",
       "    }\n",
       "</style>\n",
       "<table border=\"1\" class=\"dataframe\">\n",
       "  <thead>\n",
       "    <tr style=\"text-align: right;\">\n",
       "      <th></th>\n",
       "      <th>X</th>\n",
       "      <th>Y</th>\n",
       "      <th>Z</th>\n",
       "    </tr>\n",
       "  </thead>\n",
       "  <tbody>\n",
       "    <tr>\n",
       "      <th>count</th>\n",
       "      <td>40.000000</td>\n",
       "      <td>40.000000</td>\n",
       "      <td>40.000000</td>\n",
       "    </tr>\n",
       "    <tr>\n",
       "      <th>mean</th>\n",
       "      <td>4.550000</td>\n",
       "      <td>4.825000</td>\n",
       "      <td>36.350000</td>\n",
       "    </tr>\n",
       "    <tr>\n",
       "      <th>std</th>\n",
       "      <td>2.960856</td>\n",
       "      <td>1.920036</td>\n",
       "      <td>3.278133</td>\n",
       "    </tr>\n",
       "    <tr>\n",
       "      <th>min</th>\n",
       "      <td>0.000000</td>\n",
       "      <td>0.000000</td>\n",
       "      <td>30.000000</td>\n",
       "    </tr>\n",
       "    <tr>\n",
       "      <th>25%</th>\n",
       "      <td>2.000000</td>\n",
       "      <td>4.000000</td>\n",
       "      <td>34.000000</td>\n",
       "    </tr>\n",
       "    <tr>\n",
       "      <th>50%</th>\n",
       "      <td>5.000000</td>\n",
       "      <td>5.000000</td>\n",
       "      <td>35.000000</td>\n",
       "    </tr>\n",
       "    <tr>\n",
       "      <th>75%</th>\n",
       "      <td>7.000000</td>\n",
       "      <td>6.250000</td>\n",
       "      <td>39.000000</td>\n",
       "    </tr>\n",
       "    <tr>\n",
       "      <th>max</th>\n",
       "      <td>9.000000</td>\n",
       "      <td>7.000000</td>\n",
       "      <td>42.000000</td>\n",
       "    </tr>\n",
       "  </tbody>\n",
       "</table>\n",
       "</div>"
      ],
      "text/plain": [
       "               X          Y          Z\n",
       "count  40.000000  40.000000  40.000000\n",
       "mean    4.550000   4.825000  36.350000\n",
       "std     2.960856   1.920036   3.278133\n",
       "min     0.000000   0.000000  30.000000\n",
       "25%     2.000000   4.000000  34.000000\n",
       "50%     5.000000   5.000000  35.000000\n",
       "75%     7.000000   6.250000  39.000000\n",
       "max     9.000000   7.000000  42.000000"
      ]
     },
     "execution_count": 256,
     "metadata": {},
     "output_type": "execute_result"
    }
   ],
   "source": [
    "dataset.data.describe()"
   ]
  },
  {
   "cell_type": "code",
   "execution_count": 240,
   "metadata": {},
   "outputs": [
    {
     "data": {
      "image/png": "[encoded data removed]",
      "text/plain": [
       "<Figure size 432x288 with 2 Axes>"
      ]
     },
     "metadata": {},
     "output_type": "display_data"
    }
   ],
   "source": [
    "dataset.show()\n",
    "dataset.show_pairs(pairs=vario.get_pairs_class(0))"
   ]
  },
  {
   "cell_type": "code",
   "execution_count": 257,
   "metadata": {},
   "outputs": [
    {
     "data": {
      "application/vnd.jupyter.widget-view+json": {
       "model_id": "7b05febe0e664d4cbb4a4cdb4c162285",
       "version_major": 2,
       "version_minor": 0
      },
      "text/plain": [
       "interactive(children=(FloatSlider(value=1.5, description='lag_unit_distance', max=12.806248474865697, min=0.01…"
      ]
     },
     "metadata": {},
     "output_type": "display_data"
    }
   ],
   "source": [
    "vario = Variogram(dataset)\n",
    "vario.compute_vario_cloud()\n",
    "vario.setup_lags(max_lag_distance=12,lag_unit_distance=1.5)\n",
    "vario.compute_variogram()\n",
    "lag_unit_distance_widget = widgets.FloatSlider(min=0.01,max=vario.dataset.max_dist(),step=1, value=vario.lag_unit_distance, continuous_update=True)\n",
    "max_lag_distance_widget = widgets.FloatSlider(min=vario.dataset.max_dist()/1000,max=vario.dataset.max_dist(),step=1, value=vario.max_lag_distance, continuous_update=True)\n",
    "selected_lag_widget = widgets.IntSlider(min=0,max = vario.nb_lags-1, step =1, value=0, continuous_update=True )\n",
    "selected_pair_widget = widgets.IntSlider(min=0,max = 1, step =1, value=0, continuous_update=False )\n",
    "\n",
    "def update_max_lag(*args):\n",
    "    vario.setup_lags(max_lag_distance=max_lag_distance_widget.value,lag_unit_distance=lag_unit_distance_widget.value)\n",
    "    selected_lag_widget.max = vario.nb_lags\n",
    "    \n",
    "max_lag_distance_widget.observe(update_max_lag,\"value\")\n",
    "lag_unit_distance_widget.observe(update_max_lag,\"value\")\n",
    "\n",
    "def update_selected_pair_max(*args):\n",
    "    vario.setup_lags(max_lag_distance=max_lag_distance_widget.value,lag_unit_distance=lag_unit_distance_widget.value)\n",
    "    selected_pair_widget.max = len(vario.pairs[vario.h_slices[selected_lag_widget.value]])-1\n",
    "    selected_pair_widget.value=0\n",
    "    \n",
    "max_lag_distance_widget.observe(update_selected_pair_max,\"value\")\n",
    "lag_unit_distance_widget.observe(update_selected_pair_max,\"value\")\n",
    "selected_lag_widget.observe(update_selected_pair_max,\"value\")\n",
    "\n",
    "@interact(\n",
    "    lag_unit_distance=lag_unit_distance_widget,\n",
    "    max_lag_distance=max_lag_distance_widget,\n",
    "    selected_lag=selected_lag_widget,\n",
    "    selected_pair=selected_pair_widget,\n",
    "    vario=fixed(vario))\n",
    "def explore_vario(lag_unit_distance,max_lag_distance,selected_lag,selected_pair,vario):\n",
    "    fig,axes = plt.subplots(1,2)\n",
    "    \n",
    "    vario.setup_lags(max_lag_distance=max_lag_distance,lag_unit_distance=lag_unit_distance)\n",
    "    vario.compute_variogram()\n",
    "    vario.show(show_cloud = True,show_classes=True,ax=axes[0],selected_lag=selected_lag,selected_pair=selected_pair)\n",
    "    \n",
    "    dataset.show(ax=axes[1])\n",
    "    dataset.show_pairs(pairs=vario.get_pairs_class(selected_lag),ax=axes[1],highlight_index=selected_pair)\n",
    "    fig.set_size_inches((16,6))"
   ]
  },
  {
   "cell_type": "markdown",
   "metadata": {},
   "source": [
    "# 1D Dataset"
   ]
  },
  {
   "cell_type": "code",
   "execution_count": 201,
   "metadata": {},
   "outputs": [
    {
     "data": {
      "image/png": "[encoded data removed]",
      "text/plain": [
       "<Figure size 432x288 with 1 Axes>"
      ]
     },
     "metadata": {},
     "output_type": "display_data"
    }
   ],
   "source": [
    "data_1d = DataSet()\n",
    "data_1d.set_random_coordinates(n_data=42,box_array=[[0,200]],seed=42)\n",
    "data_1d.compute_values(function= lambda coord: 2+ np.cos(coord[0]*np.pi/50))\n",
    "data_1d.show(highlight_index=0)"
   ]
  },
  {
   "cell_type": "code",
   "execution_count": 203,
   "metadata": {},
   "outputs": [
    {
     "data": {
      "image/png": "[encoded data removed]",
      "text/plain": [
       "<Figure size 432x288 with 1 Axes>"
      ]
     },
     "metadata": {},
     "output_type": "display_data"
    }
   ],
   "source": [
    "data_1d.show_pairs(max_dist=10)"
   ]
  },
  {
   "cell_type": "code",
   "execution_count": 200,
   "metadata": {},
   "outputs": [
    {
     "name": "stderr",
     "output_type": "stream",
     "text": [
      "C:\\ProgramData\\Anaconda3\\lib\\site-packages\\ipykernel_launcher.py:171: FutureWarning: \n",
      "Passing list-likes to .loc or [] with any missing label will raise\n",
      "KeyError in the future, you can use .reindex() as an alternative.\n",
      "\n",
      "See the documentation here:\n",
      "https://pandas.pydata.org/pandas-docs/stable/indexing.html#deprecate-loc-reindex-listlike\n",
      "C:\\ProgramData\\Anaconda3\\lib\\site-packages\\ipykernel_launcher.py:81: RuntimeWarning: invalid value encountered in greater\n",
      "C:\\ProgramData\\Anaconda3\\lib\\site-packages\\ipykernel_launcher.py:81: RuntimeWarning: invalid value encountered in less\n",
      "C:\\ProgramData\\Anaconda3\\lib\\site-packages\\numpy\\core\\fromnumeric.py:2957: RuntimeWarning: Mean of empty slice.\n",
      "  out=out, **kwargs)\n",
      "C:\\ProgramData\\Anaconda3\\lib\\site-packages\\numpy\\core\\_methods.py:80: RuntimeWarning: invalid value encountered in double_scalars\n",
      "  ret = ret.dtype.type(ret / rcount)\n"
     ]
    },
    {
     "data": {
      "application/vnd.jupyter.widget-view+json": {
       "model_id": "4debba9f6b2f43818afba04e1d6dc1b1",
       "version_major": 2,
       "version_minor": 0
      },
      "text/plain": [
       "interactive(children=(FloatSlider(value=1.641495019497114, description='lag_unit_distance', max=200.0, min=0.0…"
      ]
     },
     "metadata": {},
     "output_type": "display_data"
    },
    {
     "data": {
      "image/png": "[encoded data removed]",
      "text/plain": [
       "<Figure size 432x288 with 2 Axes>"
      ]
     },
     "metadata": {},
     "output_type": "display_data"
    }
   ],
   "source": [
    "vario = Variogram(data_1d)\n",
    "vario.compute_vario_cloud()\n",
    "vario.setup_lags()\n",
    "vario.compute_variogram()\n",
    "lag_unit_distance_widget = widgets.FloatSlider(min=0.01,max=vario.dataset.max_dist(),step=1, value=vario.lag_unit_distance, continuous_update=True)\n",
    "max_lag_distance_widget = widgets.FloatSlider(min=vario.dataset.max_dist()/1000,max=vario.dataset.max_dist(),step=1, value=vario.max_lag_distance, continuous_update=True)\n",
    "selected_lag_widget = widgets.IntSlider(min=0,max = vario.nb_lags, step =1, value=0, continuous_update=True )\n",
    "selected_pair_widget = widgets.IntSlider(min=0,max = 1, step =1, value=0, continuous_update=True )\n",
    "\n",
    "def update_max_lag(*args):\n",
    "    vario.setup_lags(max_lag_distance=max_lag_distance_widget.value,lag_unit_distance=lag_unit_distance_widget.value)\n",
    "    selected_lag_widget.max = vario.nb_lags\n",
    "    \n",
    "max_lag_distance_widget.observe(update_max_lag,\"value\")\n",
    "lag_unit_distance_widget.observe(update_max_lag,\"value\")\n",
    "\n",
    "def update_selected_pair_max(*args):\n",
    "    vario.setup_lags(max_lag_distance=max_lag_distance_widget.value,lag_unit_distance=lag_unit_distance_widget.value)\n",
    "    selected_pair_widget.max = len(vario.pairs[vario.h_slices[selected_lag_widget.value]])-1\n",
    "    selected_pair_widget.value=0\n",
    "    \n",
    "max_lag_distance_widget.observe(update_selected_pair_max,\"value\")\n",
    "lag_unit_distance_widget.observe(update_selected_pair_max,\"value\")\n",
    "selected_lag_widget.observe(update_selected_pair_max,\"value\")\n",
    "\n",
    "@interact(\n",
    "    lag_unit_distance=lag_unit_distance_widget,\n",
    "    max_lag_distance=max_lag_distance_widget,\n",
    "    selected_lag=selected_lag_widget,\n",
    "    selected_pair=selected_pair_widget,\n",
    "    vario=fixed(vario))\n",
    "def explore_vario(lag_unit_distance,max_lag_distance,selected_lag,selected_pair,vario):\n",
    "    fig,axes = plt.subplots(1,2)\n",
    "    \n",
    "    vario.setup_lags(max_lag_distance=max_lag_distance,lag_unit_distance=lag_unit_distance)\n",
    "    vario.compute_variogram()\n",
    "    vario.show(show_cloud = True,show_classes=True,ax=axes[0],selected_lag=selected_lag,selected_pair=selected_pair)\n",
    "    \n",
    "    dataset.show(ax=axes[1])\n",
    "    dataset.show_pairs(pairs=vario.get_pairs_class(selected_lag),ax=axes[1],highlight_index=selected_pair)\n",
    "    fig.set_size_inches((16,6))"
   ]
  },
  {
   "cell_type": "code",
   "execution_count": null,
   "metadata": {},
   "outputs": [],
   "source": []
  },
  {
   "cell_type": "code",
   "execution_count": null,
   "metadata": {},
   "outputs": [],
   "source": [
    "\n",
    "\n",
    "\n",
    "\n",
    "\n",
    "\n",
    "\n",
    "\n",
    "\n",
    "\n",
    "\n",
    "\n",
    "\n",
    "\n",
    "\n",
    "\n",
    "\n",
    "\n",
    "\n",
    "\n",
    "\n"
   ]
  },
  {
   "cell_type": "code",
   "execution_count": null,
   "metadata": {},
   "outputs": [],
   "source": []
  }
 ],
 "metadata": {
  "hide_input": false,
  "kernelspec": {
   "display_name": "Python 3",
   "language": "python",
   "name": "python3"
  },
  "language_info": {
   "codemirror_mode": {
    "name": "ipython",
    "version": 3
   },
   "file_extension": ".py",
   "mimetype": "text/x-python",
   "name": "python",
   "nbconvert_exporter": "python",
   "pygments_lexer": "ipython3",
   "version": "3.6.5"
  },
  "latex_envs": {
   "LaTeX_envs_menu_present": true,
   "autoclose": false,
   "autocomplete": true,
   "bibliofile": "biblio.bib",
   "cite_by": "apalike",
   "current_citInitial": 1,
   "eqLabelWithNumbers": true,
   "eqNumInitial": 1,
   "hotkeys": {
    "equation": "Ctrl-E",
    "itemize": "Ctrl-I"
   },
   "labels_anchors": false,
   "latex_user_defs": false,
   "report_style_numbering": false,
   "user_envs_cfg": false
  },
  "toc": {
   "base_numbering": 1,
   "nav_menu": {},
   "number_sections": true,
   "sideBar": true,
   "skip_h1_title": true,
   "title_cell": "Table of Contents",
   "title_sidebar": "Contents",
   "toc_cell": false,
   "toc_position": {},
   "toc_section_display": true,
   "toc_window_display": false
  },
  "varInspector": {
   "cols": {
    "lenName": 16,
    "lenType": 16,
    "lenVar": 40
   },
   "kernels_config": {
    "python": {
     "delete_cmd_postfix": "",
     "delete_cmd_prefix": "del ",
     "library": "var_list.py",
     "varRefreshCmd": "print(var_dic_list())"
    },
    "r": {
     "delete_cmd_postfix": ") ",
     "delete_cmd_prefix": "rm(",
     "library": "var_list.r",
     "varRefreshCmd": "cat(var_dic_list()) "
    }
   },
   "types_to_exclude": [
    "module",
    "function",
    "builtin_function_or_method",
    "instance",
    "_Feature"
   ],
   "window_display": false
  }
 },
 "nbformat": 4,
 "nbformat_minor": 2
}
